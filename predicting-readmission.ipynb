{
 "cells": [
  {
   "cell_type": "markdown",
   "metadata": {},
   "source": [
    "# Introduction"
   ]
  },
  {
   "cell_type": "markdown",
   "metadata": {},
   "source": [
    "Health care is moving towards a value-based care model that incentivizes health care providers for providing quality care, quantified by improvements of the patient's health outcomes. This model involves understanding the health care needs of patients, integrating a multidisciplinary team to develop solutions that impact population health, and measuring health outcomes of patients to drive ongoing quality improvement projects.\n",
    "\n",
    "With the advent of electronic health data and recent innovations in the field of machine learning, large and complex clinical data have been used by health care professionals to have answer pressing problems. Machine learning methods have been used to improve patient risk stratification for specific infections, disease prediction, and streamlining hospital operations.\n",
    "\n",
    "Centers for Medicare & Medicaid Services (CMS) have created various value-based programs that incentivizes health care providers to provide better care and value to patients. For instance, the [Hospital Readmission Reduction Program](https://www.cms.gov/index.php/Medicare/Quality-Initiatives-Patient-Assessment-Instruments/Value-Based-Programs/HRRP/Hospital-Readmission-Reduction-Program) focuses on improving care coordination efforts in order to reduce readmission rates, effectively saving health care costs for both the provider and the patient. \n",
    "\n",
    "The program defines readmission as:\n",
    "\n",
    "1. Unplanned readmissions that happen within 30 days of discharge from the initial admission and;\n",
    "2. Patients who are readmitted to the same hospital, or another applicable acute care hospital for any reason.\n",
    "\n",
    "This notebook will focus on applying classification models to identify patients who are at risk for readmission, as defined by the HRRP. The data used for this project can be found in the [UCI Machine Learning Repository](https://archive.ics.uci.edu/ml/datasets/diabetes+130-us+hospitals+for+years+1999-2008)."
   ]
  },
  {
   "cell_type": "markdown",
   "metadata": {},
   "source": [
    "## Data Set Information"
   ]
  },
  {
   "cell_type": "markdown",
   "metadata": {},
   "source": [
    "The data has been prepared to analyze factors related to readmission as well as other outcomes pertaining to patients with diabetes. This data has been used to study the impact of HbA1c measurement and hospital readmission rates (see [here](https://www.hindawi.com/journals/bmri/2014/781670/)).\n",
    "\n",
    "As mentioned in the article, the data represents 10 years of clinical care at 130 US hospitals and integrated delivery networks. The data has been de-identified and each observations in the dataset satisfy the following criteria:\n",
    "\n",
    "1. an inpatient encounter (i.e., hospital admission),\n",
    "2. a diabetic encounter (i.e., any kind of diabetes has been identified as one the patient's diagnosis),\n",
    "3. the length of stay was at least 1 day and at most 14 days,\n",
    "4. laboratory tests were performed during the encounter and;\n",
    "5. medications were administered during the encounter.\n",
    "\n",
    "More information about the data can be found in the article in the following [link](https://www.hindawi.com/journals/bmri/2014/781670/)."
   ]
  },
  {
   "cell_type": "markdown",
   "metadata": {},
   "source": [
    "# Methodology"
   ]
  },
  {
   "cell_type": "markdown",
   "metadata": {},
   "source": [
    "## Data Exploration"
   ]
  },
  {
   "cell_type": "code",
   "execution_count": 1,
   "metadata": {
    "ExecuteTime": {
     "end_time": "2020-10-03T20:24:21.817366Z",
     "start_time": "2020-10-03T20:24:16.884862Z"
    },
    "init_cell": true
   },
   "outputs": [],
   "source": [
    "# Installing packages.\n",
    "import pandas as pd"
   ]
  },
  {
   "cell_type": "code",
   "execution_count": 2,
   "metadata": {
    "ExecuteTime": {
     "end_time": "2020-10-03T20:24:22.387383Z",
     "start_time": "2020-10-03T20:24:21.820339Z"
    },
    "init_cell": true
   },
   "outputs": [
    {
     "name": "stdout",
     "output_type": "stream",
     "text": [
      "The dataset has 101766 observations and 50 features.\n"
     ]
    }
   ],
   "source": [
    "# Load data into a pandas dataframe.\n",
    "diabetes_df = pd.read_csv(\"diabetic_data.csv\", low_memory=False)\n",
    "\n",
    "# Returning number of observations and features of the data.\n",
    "print(f'The dataset has {diabetes_df.shape[0]} observations and {diabetes_df.shape[1]} features.')"
   ]
  },
  {
   "cell_type": "code",
   "execution_count": 4,
   "metadata": {
    "ExecuteTime": {
     "end_time": "2020-10-03T19:05:45.713692Z",
     "start_time": "2020-10-03T19:05:45.695706Z"
    }
   },
   "outputs": [
    {
     "data": {
      "text/plain": [
       "object    37\n",
       "int64     13\n",
       "dtype: int64"
      ]
     },
     "execution_count": 4,
     "metadata": {},
     "output_type": "execute_result"
    }
   ],
   "source": [
    "# Returning data types for the features.\n",
    "diabetes_df.dtypes.value_counts()"
   ]
  },
  {
   "cell_type": "code",
   "execution_count": 13,
   "metadata": {
    "ExecuteTime": {
     "end_time": "2020-10-03T19:12:15.340737Z",
     "start_time": "2020-10-03T19:12:15.332727Z"
    }
   },
   "outputs": [
    {
     "data": {
      "text/plain": [
       "Index(['race', 'gender', 'age', 'weight', 'payer_code', 'medical_specialty',\n",
       "       'diag_1', 'diag_2', 'diag_3', 'max_glu_serum', 'A1Cresult', 'metformin',\n",
       "       'repaglinide', 'nateglinide', 'chlorpropamide', 'glimepiride',\n",
       "       'acetohexamide', 'glipizide', 'glyburide', 'tolbutamide',\n",
       "       'pioglitazone', 'rosiglitazone', 'acarbose', 'miglitol', 'troglitazone',\n",
       "       'tolazamide', 'examide', 'citoglipton', 'insulin',\n",
       "       'glyburide-metformin', 'glipizide-metformin',\n",
       "       'glimepiride-pioglitazone', 'metformin-rosiglitazone',\n",
       "       'metformin-pioglitazone', 'change', 'diabetesMed', 'readmitted'],\n",
       "      dtype='object')"
      ]
     },
     "execution_count": 13,
     "metadata": {},
     "output_type": "execute_result"
    }
   ],
   "source": [
    "# Returning categorical features.\n",
    "diabetes_df.columns[diabetes_df.dtypes=='object']"
   ]
  },
  {
   "cell_type": "code",
   "execution_count": 6,
   "metadata": {
    "ExecuteTime": {
     "end_time": "2020-10-03T19:06:35.107459Z",
     "start_time": "2020-10-03T19:06:35.101470Z"
    }
   },
   "outputs": [
    {
     "data": {
      "text/plain": [
       "Index(['encounter_id', 'patient_nbr', 'admission_type_id',\n",
       "       'discharge_disposition_id', 'admission_source_id', 'time_in_hospital',\n",
       "       'num_lab_procedures', 'num_procedures', 'num_medications',\n",
       "       'number_outpatient', 'number_emergency', 'number_inpatient',\n",
       "       'number_diagnoses'],\n",
       "      dtype='object')"
      ]
     },
     "execution_count": 6,
     "metadata": {},
     "output_type": "execute_result"
    }
   ],
   "source": [
    "# Returning numerical features.\n",
    "diabetes_df.columns[diabetes_df.dtypes!='object']"
   ]
  },
  {
   "cell_type": "code",
   "execution_count": 61,
   "metadata": {
    "ExecuteTime": {
     "end_time": "2020-10-03T21:08:47.046370Z",
     "start_time": "2020-10-03T21:08:46.820354Z"
    },
    "run_control": {
     "marked": false
    }
   },
   "outputs": [
    {
     "data": {
      "text/html": [
       "<div>\n",
       "<style scoped>\n",
       "    .dataframe tbody tr th:only-of-type {\n",
       "        vertical-align: middle;\n",
       "    }\n",
       "\n",
       "    .dataframe tbody tr th {\n",
       "        vertical-align: top;\n",
       "    }\n",
       "\n",
       "    .dataframe thead th {\n",
       "        text-align: right;\n",
       "    }\n",
       "</style>\n",
       "<table border=\"1\" class=\"dataframe\">\n",
       "  <thead>\n",
       "    <tr style=\"text-align: right;\">\n",
       "      <th></th>\n",
       "      <th>Unique Values</th>\n",
       "    </tr>\n",
       "  </thead>\n",
       "  <tbody>\n",
       "    <tr>\n",
       "      <th>race</th>\n",
       "      <td>[Caucasian, AfricanAmerican, ?, Other, Asian, Hispanic]</td>\n",
       "    </tr>\n",
       "    <tr>\n",
       "      <th>gender</th>\n",
       "      <td>[Female, Male, Unknown/Invalid]</td>\n",
       "    </tr>\n",
       "    <tr>\n",
       "      <th>age</th>\n",
       "      <td>[[0-10), [10-20), [20-30), [30-40), [40-50), [50-60), [60-70), [70-80), [80-90), [90-100)]</td>\n",
       "    </tr>\n",
       "    <tr>\n",
       "      <th>weight</th>\n",
       "      <td>[?, [75-100), [50-75), [0-25), [100-125), [25-50), [125-150), [175-200), [150-175), &gt;200]</td>\n",
       "    </tr>\n",
       "    <tr>\n",
       "      <th>payer_code</th>\n",
       "      <td>[?, MC, MD, HM, UN, BC, SP, CP, SI, DM, CM, CH, PO, WC, OT, OG, MP, FR]</td>\n",
       "    </tr>\n",
       "    <tr>\n",
       "      <th>medical_specialty</th>\n",
       "      <td>[Pediatrics-Endocrinology, ?, InternalMedicine, Family/GeneralPractice, Cardiology, Surgery-General, Orthopedics, Gastroenterology, Surgery-Cardiovascular/Thoracic, Nephrology, Orthopedics-Reconstructive, Psychiatry, Emergency/Trauma, Pulmonology, Surgery-Neuro, Obsterics&amp;Gynecology-GynecologicOnco, ObstetricsandGynecology, Pediatrics, Hematology/Oncology, Otolaryngology, Surgery-Colon&amp;Rectal, Pediatrics-CriticalCare, Endocrinology, Urology, Psychiatry-Child/Adolescent, Pediatrics-Pulmonology, Neurology, Anesthesiology-Pediatric, Radiology, Pediatrics-Hematology-Oncology, Psychology, Podiatry, Gynecology, Oncology, Pediatrics-Neurology, Surgery-Plastic, Surgery-Thoracic, Surgery-PlasticwithinHeadandNeck, Ophthalmology, Surgery-Pediatric, Pediatrics-EmergencyMedicine, PhysicalMedicineandRehabilitation, InfectiousDiseases, Anesthesiology, Rheumatology, AllergyandImmunology, Surgery-Maxillofacial, Pediatrics-InfectiousDiseases, Pediatrics-AllergyandImmunology, Dentistry, Surgeon, Surgery-Vascular, Osteopath, Psychiatry-Addictive, Surgery-Cardiovascular, PhysicianNotFound, Hematology, Proctology, Obstetrics, SurgicalSpecialty, Radiologist, Pathology, Dermatology, SportsMedicine, Speech, Hospitalist, OutreachServices, Cardiology-Pediatric, Perinatology, Neurophysiology, Endocrinology-Metabolism, DCPTEAM, Resident]</td>\n",
       "    </tr>\n",
       "    <tr>\n",
       "      <th>diag_1</th>\n",
       "      <td>[250.83, 276, 648, 8, 197, 414, 428, 398, 434, 250.7, 157, 518, 999, 410, 682, 402, 737, 572, V57, 189, 786, 427, 996, 277, 584, 462, 473, 411, 174, 486, 998, 511, 432, 626, 295, 196, 250.6, 618, 182, 845, 423, 808, 250.4, 722, 403, 250.11, 784, 707, 440, 151, 715, 997, 198, 564, 812, 38, 590, 556, 578, 250.32, 433, V58, 569, 185, 536, 255, 250.13, 599, 558, 574, 491, 560, 244, 250.03, 577, 730, 188, 824, 250.8, 332, 562, 291, 296, 510, 401, 263, 438, 70, 250.02, 493, 642, 625, 571, 738, 593, 250.42, 807, 456, 446, 575, ...]</td>\n",
       "    </tr>\n",
       "    <tr>\n",
       "      <th>diag_2</th>\n",
       "      <td>[?, 250.01, 250, 250.43, 157, 411, 492, 427, 198, 403, 288, 998, 507, 174, 425, 456, 401, 715, 496, 428, 585, 250.02, 410, 999, 996, 135, 244, 41, 571, 276, 997, 599, 424, 491, 553, 707, 286, 440, 493, 242, 70, V45, 250.03, 357, 511, 196, 396, 197, 414, 250.52, 577, 535, 413, 285, 53, 780, 518, 150, 566, 250.6, 867, 486, V15, 8, 788, 340, 574, 581, 228, 530, 250.82, 786, 294, 567, 785, 512, 305, 729, 250.51, 280, 648, 560, 618, 444, 38, V10, 578, 277, 781, 250.42, 278, 426, 584, 462, 402, 153, 272, 733, 34, 881, ...]</td>\n",
       "    </tr>\n",
       "    <tr>\n",
       "      <th>diag_3</th>\n",
       "      <td>[?, 255, V27, 403, 250, V45, 38, 486, 996, 197, 250.6, 427, 627, 414, 416, 714, 428, 582, V43, 250.01, 263, 250.42, 276, 482, 401, 250.41, 585, 781, 278, 998, 568, 682, 618, 250.02, 305, 707, 496, 599, 715, 424, 518, 553, 794, 411, V42, 531, 511, 490, 562, 250.8, 250.7, 250.52, 784, 491, 581, 420, 8, 724, 730, 789, 131, 250.82, 999, 41, 493, 250.03, 753, 786, 529, E888, 425, 595, 303, 560, 711, 492, 332, 296, 438, 362, 250.4, 654, 244, V70, 737, 625, 681, 250.51, 404, V10, 810, 280, 440, 785, 588, 569, 272, 997, 250.43, 918, ...]</td>\n",
       "    </tr>\n",
       "    <tr>\n",
       "      <th>max_glu_serum</th>\n",
       "      <td>[None, &gt;300, Norm, &gt;200]</td>\n",
       "    </tr>\n",
       "    <tr>\n",
       "      <th>A1Cresult</th>\n",
       "      <td>[None, &gt;7, &gt;8, Norm]</td>\n",
       "    </tr>\n",
       "    <tr>\n",
       "      <th>metformin</th>\n",
       "      <td>[No, Steady, Up, Down]</td>\n",
       "    </tr>\n",
       "    <tr>\n",
       "      <th>repaglinide</th>\n",
       "      <td>[No, Up, Steady, Down]</td>\n",
       "    </tr>\n",
       "    <tr>\n",
       "      <th>nateglinide</th>\n",
       "      <td>[No, Steady, Down, Up]</td>\n",
       "    </tr>\n",
       "    <tr>\n",
       "      <th>chlorpropamide</th>\n",
       "      <td>[No, Steady, Down, Up]</td>\n",
       "    </tr>\n",
       "    <tr>\n",
       "      <th>glimepiride</th>\n",
       "      <td>[No, Steady, Down, Up]</td>\n",
       "    </tr>\n",
       "    <tr>\n",
       "      <th>acetohexamide</th>\n",
       "      <td>[No, Steady]</td>\n",
       "    </tr>\n",
       "    <tr>\n",
       "      <th>glipizide</th>\n",
       "      <td>[No, Steady, Up, Down]</td>\n",
       "    </tr>\n",
       "    <tr>\n",
       "      <th>glyburide</th>\n",
       "      <td>[No, Steady, Up, Down]</td>\n",
       "    </tr>\n",
       "    <tr>\n",
       "      <th>tolbutamide</th>\n",
       "      <td>[No, Steady]</td>\n",
       "    </tr>\n",
       "    <tr>\n",
       "      <th>pioglitazone</th>\n",
       "      <td>[No, Steady, Up, Down]</td>\n",
       "    </tr>\n",
       "    <tr>\n",
       "      <th>rosiglitazone</th>\n",
       "      <td>[No, Steady, Up, Down]</td>\n",
       "    </tr>\n",
       "    <tr>\n",
       "      <th>acarbose</th>\n",
       "      <td>[No, Steady, Up, Down]</td>\n",
       "    </tr>\n",
       "    <tr>\n",
       "      <th>miglitol</th>\n",
       "      <td>[No, Steady, Down, Up]</td>\n",
       "    </tr>\n",
       "    <tr>\n",
       "      <th>troglitazone</th>\n",
       "      <td>[No, Steady]</td>\n",
       "    </tr>\n",
       "    <tr>\n",
       "      <th>tolazamide</th>\n",
       "      <td>[No, Steady, Up]</td>\n",
       "    </tr>\n",
       "    <tr>\n",
       "      <th>examide</th>\n",
       "      <td>[No]</td>\n",
       "    </tr>\n",
       "    <tr>\n",
       "      <th>citoglipton</th>\n",
       "      <td>[No]</td>\n",
       "    </tr>\n",
       "    <tr>\n",
       "      <th>insulin</th>\n",
       "      <td>[No, Up, Steady, Down]</td>\n",
       "    </tr>\n",
       "    <tr>\n",
       "      <th>glyburide-metformin</th>\n",
       "      <td>[No, Steady, Down, Up]</td>\n",
       "    </tr>\n",
       "    <tr>\n",
       "      <th>glipizide-metformin</th>\n",
       "      <td>[No, Steady]</td>\n",
       "    </tr>\n",
       "    <tr>\n",
       "      <th>glimepiride-pioglitazone</th>\n",
       "      <td>[No, Steady]</td>\n",
       "    </tr>\n",
       "    <tr>\n",
       "      <th>metformin-rosiglitazone</th>\n",
       "      <td>[No, Steady]</td>\n",
       "    </tr>\n",
       "    <tr>\n",
       "      <th>metformin-pioglitazone</th>\n",
       "      <td>[No, Steady]</td>\n",
       "    </tr>\n",
       "    <tr>\n",
       "      <th>change</th>\n",
       "      <td>[No, Ch]</td>\n",
       "    </tr>\n",
       "    <tr>\n",
       "      <th>diabetesMed</th>\n",
       "      <td>[No, Yes]</td>\n",
       "    </tr>\n",
       "    <tr>\n",
       "      <th>readmitted</th>\n",
       "      <td>[NO, &gt;30, &lt;30]</td>\n",
       "    </tr>\n",
       "  </tbody>\n",
       "</table>\n",
       "</div>"
      ],
      "text/plain": [
       "                                                                                                                                                                                                                                                                                                                                                                                                                                                                                                                                                                                                                                                                                                                                                                                                                                                                                                                                                                                                                                                                                                                                                                                                                                                                                                                                                                                               Unique Values\n",
       "race                                                                                                                                                                                                                                                                                                                                                                                                                                                                                                                                                                                                                                                                                                                                                                                                                                                                                                                                                                                                                                                                                                                                                                                                                                                                                                                                                 [Caucasian, AfricanAmerican, ?, Other, Asian, Hispanic]\n",
       "gender                                                                                                                                                                                                                                                                                                                                                                                                                                                                                                                                                                                                                                                                                                                                                                                                                                                                                                                                                                                                                                                                                                                                                                                                                                                                                                                                                                       [Female, Male, Unknown/Invalid]\n",
       "age                                                                                                                                                                                                                                                                                                                                                                                                                                                                                                                                                                                                                                                                                                                                                                                                                                                                                                                                                                                                                                                                                                                                                                                                                                                                                                               [[0-10), [10-20), [20-30), [30-40), [40-50), [50-60), [60-70), [70-80), [80-90), [90-100)]\n",
       "weight                                                                                                                                                                                                                                                                                                                                                                                                                                                                                                                                                                                                                                                                                                                                                                                                                                                                                                                                                                                                                                                                                                                                                                                                                                                                                                             [?, [75-100), [50-75), [0-25), [100-125), [25-50), [125-150), [175-200), [150-175), >200]\n",
       "payer_code                                                                                                                                                                                                                                                                                                                                                                                                                                                                                                                                                                                                                                                                                                                                                                                                                                                                                                                                                                                                                                                                                                                                                                                                                                                                                                                           [?, MC, MD, HM, UN, BC, SP, CP, SI, DM, CM, CH, PO, WC, OT, OG, MP, FR]\n",
       "medical_specialty         [Pediatrics-Endocrinology, ?, InternalMedicine, Family/GeneralPractice, Cardiology, Surgery-General, Orthopedics, Gastroenterology, Surgery-Cardiovascular/Thoracic, Nephrology, Orthopedics-Reconstructive, Psychiatry, Emergency/Trauma, Pulmonology, Surgery-Neuro, Obsterics&Gynecology-GynecologicOnco, ObstetricsandGynecology, Pediatrics, Hematology/Oncology, Otolaryngology, Surgery-Colon&Rectal, Pediatrics-CriticalCare, Endocrinology, Urology, Psychiatry-Child/Adolescent, Pediatrics-Pulmonology, Neurology, Anesthesiology-Pediatric, Radiology, Pediatrics-Hematology-Oncology, Psychology, Podiatry, Gynecology, Oncology, Pediatrics-Neurology, Surgery-Plastic, Surgery-Thoracic, Surgery-PlasticwithinHeadandNeck, Ophthalmology, Surgery-Pediatric, Pediatrics-EmergencyMedicine, PhysicalMedicineandRehabilitation, InfectiousDiseases, Anesthesiology, Rheumatology, AllergyandImmunology, Surgery-Maxillofacial, Pediatrics-InfectiousDiseases, Pediatrics-AllergyandImmunology, Dentistry, Surgeon, Surgery-Vascular, Osteopath, Psychiatry-Addictive, Surgery-Cardiovascular, PhysicianNotFound, Hematology, Proctology, Obstetrics, SurgicalSpecialty, Radiologist, Pathology, Dermatology, SportsMedicine, Speech, Hospitalist, OutreachServices, Cardiology-Pediatric, Perinatology, Neurophysiology, Endocrinology-Metabolism, DCPTEAM, Resident]\n",
       "diag_1                                                                                                                                                                                                                                                                                                                                                                                                                                                                                                                                                                                                                                                                                                                                                                                                                                                    [250.83, 276, 648, 8, 197, 414, 428, 398, 434, 250.7, 157, 518, 999, 410, 682, 402, 737, 572, V57, 189, 786, 427, 996, 277, 584, 462, 473, 411, 174, 486, 998, 511, 432, 626, 295, 196, 250.6, 618, 182, 845, 423, 808, 250.4, 722, 403, 250.11, 784, 707, 440, 151, 715, 997, 198, 564, 812, 38, 590, 556, 578, 250.32, 433, V58, 569, 185, 536, 255, 250.13, 599, 558, 574, 491, 560, 244, 250.03, 577, 730, 188, 824, 250.8, 332, 562, 291, 296, 510, 401, 263, 438, 70, 250.02, 493, 642, 625, 571, 738, 593, 250.42, 807, 456, 446, 575, ...]\n",
       "diag_2                                                                                                                                                                                                                                                                                                                                                                                                                                                                                                                                                                                                                                                                                                                                                                                                                                                            [?, 250.01, 250, 250.43, 157, 411, 492, 427, 198, 403, 288, 998, 507, 174, 425, 456, 401, 715, 496, 428, 585, 250.02, 410, 999, 996, 135, 244, 41, 571, 276, 997, 599, 424, 491, 553, 707, 286, 440, 493, 242, 70, V45, 250.03, 357, 511, 196, 396, 197, 414, 250.52, 577, 535, 413, 285, 53, 780, 518, 150, 566, 250.6, 867, 486, V15, 8, 788, 340, 574, 581, 228, 530, 250.82, 786, 294, 567, 785, 512, 305, 729, 250.51, 280, 648, 560, 618, 444, 38, V10, 578, 277, 781, 250.42, 278, 426, 584, 462, 402, 153, 272, 733, 34, 881, ...]\n",
       "diag_3                                                                                                                                                                                                                                                                                                                                                                                                                                                                                                                                                                                                                                                                                                                                                                                                                                               [?, 255, V27, 403, 250, V45, 38, 486, 996, 197, 250.6, 427, 627, 414, 416, 714, 428, 582, V43, 250.01, 263, 250.42, 276, 482, 401, 250.41, 585, 781, 278, 998, 568, 682, 618, 250.02, 305, 707, 496, 599, 715, 424, 518, 553, 794, 411, V42, 531, 511, 490, 562, 250.8, 250.7, 250.52, 784, 491, 581, 420, 8, 724, 730, 789, 131, 250.82, 999, 41, 493, 250.03, 753, 786, 529, E888, 425, 595, 303, 560, 711, 492, 332, 296, 438, 362, 250.4, 654, 244, V70, 737, 625, 681, 250.51, 404, V10, 810, 280, 440, 785, 588, 569, 272, 997, 250.43, 918, ...]\n",
       "max_glu_serum                                                                                                                                                                                                                                                                                                                                                                                                                                                                                                                                                                                                                                                                                                                                                                                                                                                                                                                                                                                                                                                                                                                                                                                                                                                                                                                                                                       [None, >300, Norm, >200]\n",
       "A1Cresult                                                                                                                                                                                                                                                                                                                                                                                                                                                                                                                                                                                                                                                                                                                                                                                                                                                                                                                                                                                                                                                                                                                                                                                                                                                                                                                                                                               [None, >7, >8, Norm]\n",
       "metformin                                                                                                                                                                                                                                                                                                                                                                                                                                                                                                                                                                                                                                                                                                                                                                                                                                                                                                                                                                                                                                                                                                                                                                                                                                                                                                                                                                             [No, Steady, Up, Down]\n",
       "repaglinide                                                                                                                                                                                                                                                                                                                                                                                                                                                                                                                                                                                                                                                                                                                                                                                                                                                                                                                                                                                                                                                                                                                                                                                                                                                                                                                                                                           [No, Up, Steady, Down]\n",
       "nateglinide                                                                                                                                                                                                                                                                                                                                                                                                                                                                                                                                                                                                                                                                                                                                                                                                                                                                                                                                                                                                                                                                                                                                                                                                                                                                                                                                                                           [No, Steady, Down, Up]\n",
       "chlorpropamide                                                                                                                                                                                                                                                                                                                                                                                                                                                                                                                                                                                                                                                                                                                                                                                                                                                                                                                                                                                                                                                                                                                                                                                                                                                                                                                                                                        [No, Steady, Down, Up]\n",
       "glimepiride                                                                                                                                                                                                                                                                                                                                                                                                                                                                                                                                                                                                                                                                                                                                                                                                                                                                                                                                                                                                                                                                                                                                                                                                                                                                                                                                                                           [No, Steady, Down, Up]\n",
       "acetohexamide                                                                                                                                                                                                                                                                                                                                                                                                                                                                                                                                                                                                                                                                                                                                                                                                                                                                                                                                                                                                                                                                                                                                                                                                                                                                                                                                                                                   [No, Steady]\n",
       "glipizide                                                                                                                                                                                                                                                                                                                                                                                                                                                                                                                                                                                                                                                                                                                                                                                                                                                                                                                                                                                                                                                                                                                                                                                                                                                                                                                                                                             [No, Steady, Up, Down]\n",
       "glyburide                                                                                                                                                                                                                                                                                                                                                                                                                                                                                                                                                                                                                                                                                                                                                                                                                                                                                                                                                                                                                                                                                                                                                                                                                                                                                                                                                                             [No, Steady, Up, Down]\n",
       "tolbutamide                                                                                                                                                                                                                                                                                                                                                                                                                                                                                                                                                                                                                                                                                                                                                                                                                                                                                                                                                                                                                                                                                                                                                                                                                                                                                                                                                                                     [No, Steady]\n",
       "pioglitazone                                                                                                                                                                                                                                                                                                                                                                                                                                                                                                                                                                                                                                                                                                                                                                                                                                                                                                                                                                                                                                                                                                                                                                                                                                                                                                                                                                          [No, Steady, Up, Down]\n",
       "rosiglitazone                                                                                                                                                                                                                                                                                                                                                                                                                                                                                                                                                                                                                                                                                                                                                                                                                                                                                                                                                                                                                                                                                                                                                                                                                                                                                                                                                                         [No, Steady, Up, Down]\n",
       "acarbose                                                                                                                                                                                                                                                                                                                                                                                                                                                                                                                                                                                                                                                                                                                                                                                                                                                                                                                                                                                                                                                                                                                                                                                                                                                                                                                                                                              [No, Steady, Up, Down]\n",
       "miglitol                                                                                                                                                                                                                                                                                                                                                                                                                                                                                                                                                                                                                                                                                                                                                                                                                                                                                                                                                                                                                                                                                                                                                                                                                                                                                                                                                                              [No, Steady, Down, Up]\n",
       "troglitazone                                                                                                                                                                                                                                                                                                                                                                                                                                                                                                                                                                                                                                                                                                                                                                                                                                                                                                                                                                                                                                                                                                                                                                                                                                                                                                                                                                                    [No, Steady]\n",
       "tolazamide                                                                                                                                                                                                                                                                                                                                                                                                                                                                                                                                                                                                                                                                                                                                                                                                                                                                                                                                                                                                                                                                                                                                                                                                                                                                                                                                                                                  [No, Steady, Up]\n",
       "examide                                                                                                                                                                                                                                                                                                                                                                                                                                                                                                                                                                                                                                                                                                                                                                                                                                                                                                                                                                                                                                                                                                                                                                                                                                                                                                                                                                                                 [No]\n",
       "citoglipton                                                                                                                                                                                                                                                                                                                                                                                                                                                                                                                                                                                                                                                                                                                                                                                                                                                                                                                                                                                                                                                                                                                                                                                                                                                                                                                                                                                             [No]\n",
       "insulin                                                                                                                                                                                                                                                                                                                                                                                                                                                                                                                                                                                                                                                                                                                                                                                                                                                                                                                                                                                                                                                                                                                                                                                                                                                                                                                                                                               [No, Up, Steady, Down]\n",
       "glyburide-metformin                                                                                                                                                                                                                                                                                                                                                                                                                                                                                                                                                                                                                                                                                                                                                                                                                                                                                                                                                                                                                                                                                                                                                                                                                                                                                                                                                                   [No, Steady, Down, Up]\n",
       "glipizide-metformin                                                                                                                                                                                                                                                                                                                                                                                                                                                                                                                                                                                                                                                                                                                                                                                                                                                                                                                                                                                                                                                                                                                                                                                                                                                                                                                                                                             [No, Steady]\n",
       "glimepiride-pioglitazone                                                                                                                                                                                                                                                                                                                                                                                                                                                                                                                                                                                                                                                                                                                                                                                                                                                                                                                                                                                                                                                                                                                                                                                                                                                                                                                                                                        [No, Steady]\n",
       "metformin-rosiglitazone                                                                                                                                                                                                                                                                                                                                                                                                                                                                                                                                                                                                                                                                                                                                                                                                                                                                                                                                                                                                                                                                                                                                                                                                                                                                                                                                                                         [No, Steady]\n",
       "metformin-pioglitazone                                                                                                                                                                                                                                                                                                                                                                                                                                                                                                                                                                                                                                                                                                                                                                                                                                                                                                                                                                                                                                                                                                                                                                                                                                                                                                                                                                          [No, Steady]\n",
       "change                                                                                                                                                                                                                                                                                                                                                                                                                                                                                                                                                                                                                                                                                                                                                                                                                                                                                                                                                                                                                                                                                                                                                                                                                                                                                                                                                                                              [No, Ch]\n",
       "diabetesMed                                                                                                                                                                                                                                                                                                                                                                                                                                                                                                                                                                                                                                                                                                                                                                                                                                                                                                                                                                                                                                                                                                                                                                                                                                                                                                                                                                                        [No, Yes]\n",
       "readmitted                                                                                                                                                                                                                                                                                                                                                                                                                                                                                                                                                                                                                                                                                                                                                                                                                                                                                                                                                                                                                                                                                                                                                                                                                                                                                                                                                                                    [NO, >30, <30]"
      ]
     },
     "execution_count": 61,
     "metadata": {},
     "output_type": "execute_result"
    }
   ],
   "source": [
    "# Assigning categorical features into a variable.\n",
    "categorical_cols = diabetes_df.columns[diabetes_df.dtypes=='object']\n",
    "\n",
    "# Assisgnin an array of unique values for each categorical features.\n",
    "unique_cat_cols = [diabetes_df[i].unique() for i in categorical_cols]\n",
    "\n",
    "# Creating a dataframe to view results.\n",
    "pd.set_option('display.max_colwidth', None)\n",
    "pd.DataFrame({'Unique Values': unique_cat_cols}, index=categorical_cols)"
   ]
  }
 ],
 "metadata": {
  "celltoolbar": "Initialization Cell",
  "kernelspec": {
   "display_name": "Python [conda env:root] *",
   "language": "python",
   "name": "conda-root-py"
  },
  "language_info": {
   "codemirror_mode": {
    "name": "ipython",
    "version": 3
   },
   "file_extension": ".py",
   "mimetype": "text/x-python",
   "name": "python",
   "nbconvert_exporter": "python",
   "pygments_lexer": "ipython3",
   "version": "3.8.5"
  },
  "toc": {
   "base_numbering": 1,
   "nav_menu": {},
   "number_sections": true,
   "sideBar": true,
   "skip_h1_title": false,
   "title_cell": "Table of Contents",
   "title_sidebar": "Contents",
   "toc_cell": false,
   "toc_position": {},
   "toc_section_display": true,
   "toc_window_display": false
  },
  "varInspector": {
   "cols": {
    "lenName": 16,
    "lenType": 16,
    "lenVar": 40
   },
   "kernels_config": {
    "python": {
     "delete_cmd_postfix": "",
     "delete_cmd_prefix": "del ",
     "library": "var_list.py",
     "varRefreshCmd": "print(var_dic_list())"
    },
    "r": {
     "delete_cmd_postfix": ") ",
     "delete_cmd_prefix": "rm(",
     "library": "var_list.r",
     "varRefreshCmd": "cat(var_dic_list()) "
    }
   },
   "types_to_exclude": [
    "module",
    "function",
    "builtin_function_or_method",
    "instance",
    "_Feature"
   ],
   "window_display": false
  }
 },
 "nbformat": 4,
 "nbformat_minor": 4
}
