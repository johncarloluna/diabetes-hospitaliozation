{
 "cells": [
  {
   "cell_type": "markdown",
   "metadata": {},
   "source": [
    "# Introduction"
   ]
  },
  {
   "cell_type": "markdown",
   "metadata": {},
   "source": [
    "Health care is moving towards a value-based care model that incentivizes health care providers for providing quality care, quantified by improvements of the patient's health outcomes. This model involves understanding the health care needs of patients, integrating a multidisciplinary team to develop solutions that impact population health, and measuring health outcomes of patients to drive ongoing quality improvement projects.\n",
    "\n",
    "With the advent of electronic health data and recent innovations in the field of machine learning, large and complex clinical data have been used by health care professionals to have answer pressing problems. Machine learning methods have been used to improve patient risk stratification for specific infections, disease prediction, and streamlining hospital operations.\n",
    "\n",
    "Centers for Medicare & Medicaid Services (CMS) have created various value-based programs that incentivizes health care providers to provide better care and value to patients. For instance, the [Hospital Readmission Reduction Program](https://www.cms.gov/index.php/Medicare/Quality-Initiatives-Patient-Assessment-Instruments/Value-Based-Programs/HRRP/Hospital-Readmission-Reduction-Program) focuses on improving care coordination efforts in order to reduce readmission rates, effectively saving health care costs for both the provider and the patient. \n",
    "\n",
    "The program defines readmission as:\n",
    "\n",
    "1. Unplanned readmissions that happen within 30 days of discharge from the initial admission and;\n",
    "2. Patients who are readmitted to the same hospital, or another applicable acute care hospital for any reason.\n",
    "\n",
    "This notebook will focus on applying classification models to identify patients who are at risk for readmission, as defined by the HRRP. The data used for this project can be found in the [UCI Machine Learning Repository](https://archive.ics.uci.edu/ml/datasets/diabetes+130-us+hospitals+for+years+1999-2008)."
   ]
  },
  {
   "cell_type": "markdown",
   "metadata": {},
   "source": [
    "## Data Set Information"
   ]
  },
  {
   "cell_type": "markdown",
   "metadata": {},
   "source": [
    "The data has been prepared to analyze factors related to readmission as well as other outcomes pertaining to patients with diabetes. This data has been used to study the impact of HbA1c measurement and hospital readmission rates ([Strack et. al (2013)](https://www.hindawi.com/journals/bmri/2014/781670/)).\n",
    "\n",
    "As mentioned in the article, the data represents 10 years of clinical care at 130 US hospitals and integrated delivery networks. The data has been de-identified and each observations in the dataset satisfy the following criteria:\n",
    "\n",
    "1. an inpatient encounter (i.e., hospital admission),\n",
    "2. a diabetic encounter (i.e., any kind of diabetes has been identified as one the patient's diagnosis),\n",
    "3. the length of stay was at least 1 day and at most 14 days,\n",
    "4. laboratory tests were performed during the encounter and;\n",
    "5. medications were administered during the encounter.\n",
    "\n",
    "More information about the data can be found in the article in the following [link](https://www.hindawi.com/journals/bmri/2014/781670/)."
   ]
  },
  {
   "cell_type": "markdown",
   "metadata": {},
   "source": [
    "# Methodology"
   ]
  },
  {
   "cell_type": "markdown",
   "metadata": {},
   "source": [
    "## Data Exploration"
   ]
  },
  {
   "cell_type": "code",
   "execution_count": 1,
   "metadata": {
    "ExecuteTime": {
     "end_time": "2020-10-19T23:08:11.308338Z",
     "start_time": "2020-10-19T23:08:08.496373Z"
    }
   },
   "outputs": [],
   "source": [
    "# Installing packages.\n",
    "import pandas as pd\n",
    "import numpy as np\n",
    "import seaborn as sns\n",
    "import matplotlib.pyplot as plt"
   ]
  },
  {
   "cell_type": "code",
   "execution_count": 2,
   "metadata": {
    "ExecuteTime": {
     "end_time": "2020-10-19T23:08:12.268925Z",
     "start_time": "2020-10-19T23:08:11.327130Z"
    }
   },
   "outputs": [
    {
     "name": "stdout",
     "output_type": "stream",
     "text": [
      "The dataset has 101766 observations and 50 features.\n"
     ]
    }
   ],
   "source": [
    "# Load data into a pandas dataframe.\n",
    "diabetes_df = pd.read_csv(\"diabetic_data.csv\", low_memory=False)\n",
    "\n",
    "# Returning number of observations and features of the data.\n",
    "print(f'The dataset has {diabetes_df.shape[0]} observations and {diabetes_df.shape[1]} features.')"
   ]
  },
  {
   "cell_type": "code",
   "execution_count": 3,
   "metadata": {
    "ExecuteTime": {
     "end_time": "2020-10-19T23:08:12.420043Z",
     "start_time": "2020-10-19T23:08:12.409420Z"
    }
   },
   "outputs": [
    {
     "data": {
      "text/plain": [
       "object    37\n",
       "int64     13\n",
       "dtype: int64"
      ]
     },
     "execution_count": 3,
     "metadata": {},
     "output_type": "execute_result"
    }
   ],
   "source": [
    "# Returning data types for the features.\n",
    "diabetes_df.dtypes.value_counts()"
   ]
  },
  {
   "cell_type": "code",
   "execution_count": 4,
   "metadata": {
    "ExecuteTime": {
     "end_time": "2020-10-19T23:08:12.556192Z",
     "start_time": "2020-10-19T23:08:12.548210Z"
    }
   },
   "outputs": [
    {
     "data": {
      "text/plain": [
       "Index(['race', 'gender', 'age', 'weight', 'payer_code', 'medical_specialty',\n",
       "       'diag_1', 'diag_2', 'diag_3', 'max_glu_serum', 'A1Cresult', 'metformin',\n",
       "       'repaglinide', 'nateglinide', 'chlorpropamide', 'glimepiride',\n",
       "       'acetohexamide', 'glipizide', 'glyburide', 'tolbutamide',\n",
       "       'pioglitazone', 'rosiglitazone', 'acarbose', 'miglitol', 'troglitazone',\n",
       "       'tolazamide', 'examide', 'citoglipton', 'insulin',\n",
       "       'glyburide-metformin', 'glipizide-metformin',\n",
       "       'glimepiride-pioglitazone', 'metformin-rosiglitazone',\n",
       "       'metformin-pioglitazone', 'change', 'diabetesMed', 'readmitted'],\n",
       "      dtype='object')"
      ]
     },
     "execution_count": 4,
     "metadata": {},
     "output_type": "execute_result"
    }
   ],
   "source": [
    "# Returning categorical features.\n",
    "diabetes_df.columns[diabetes_df.dtypes == 'object']"
   ]
  },
  {
   "cell_type": "code",
   "execution_count": 5,
   "metadata": {
    "ExecuteTime": {
     "end_time": "2020-10-19T23:08:12.699515Z",
     "start_time": "2020-10-19T23:08:12.691725Z"
    }
   },
   "outputs": [
    {
     "data": {
      "text/plain": [
       "Index(['encounter_id', 'patient_nbr', 'admission_type_id',\n",
       "       'discharge_disposition_id', 'admission_source_id', 'time_in_hospital',\n",
       "       'num_lab_procedures', 'num_procedures', 'num_medications',\n",
       "       'number_outpatient', 'number_emergency', 'number_inpatient',\n",
       "       'number_diagnoses'],\n",
       "      dtype='object')"
      ]
     },
     "execution_count": 5,
     "metadata": {},
     "output_type": "execute_result"
    }
   ],
   "source": [
    "# Returning numerical features.\n",
    "diabetes_df.columns[diabetes_df.dtypes != 'object']"
   ]
  },
  {
   "cell_type": "markdown",
   "metadata": {},
   "source": [
    "Of our 50 features, 37 are `object` or categorical features and 13 `int64` or numerical features. \n",
    "\n",
    "With a quick glance at our features, we see several things that sets a direction for our analysis:\n",
    "* `diabetes_df['age']` is seen as an `object`, but should be `int64`;\n",
    "* `diabetes_df['readmitted']` is our output value that will be used for our classification models;\n",
    "* `diabetes_df[['encounter_id', 'patient_nbr]]` are patient identifiers that are not useful for analysis;\n",
    "* `diabetes_df[['admission_type_id', 'discharge_disposition_id, 'admission_source_id']]`, are seen as `int64`, but should be `object`.\n",
    "\n",
    "We can see that data cleaning is needed to correct our features into the proper data types and remove predictors that aren't useful for our analysis.\n",
    "\n",
    "Let's take a closer look at our features."
   ]
  },
  {
   "cell_type": "code",
   "execution_count": 6,
   "metadata": {
    "ExecuteTime": {
     "end_time": "2020-10-19T23:08:12.909293Z",
     "start_time": "2020-10-19T23:08:12.835661Z"
    }
   },
   "outputs": [],
   "source": [
    "diabetes_df = diabetes_df.drop(columns=['encounter_id', 'patient_nbr'])"
   ]
  },
  {
   "cell_type": "markdown",
   "metadata": {},
   "source": [
    "### Categorical Features"
   ]
  },
  {
   "cell_type": "code",
   "execution_count": 7,
   "metadata": {
    "ExecuteTime": {
     "end_time": "2020-10-19T23:08:13.221073Z",
     "start_time": "2020-10-19T23:08:13.057190Z"
    },
    "run_control": {
     "marked": false
    },
    "scrolled": false
   },
   "outputs": [
    {
     "data": {
      "text/html": [
       "<div>\n",
       "<style scoped>\n",
       "    .dataframe tbody tr th:only-of-type {\n",
       "        vertical-align: middle;\n",
       "    }\n",
       "\n",
       "    .dataframe tbody tr th {\n",
       "        vertical-align: top;\n",
       "    }\n",
       "\n",
       "    .dataframe thead th {\n",
       "        text-align: right;\n",
       "    }\n",
       "</style>\n",
       "<table border=\"1\" class=\"dataframe\">\n",
       "  <thead>\n",
       "    <tr style=\"text-align: right;\">\n",
       "      <th></th>\n",
       "      <th>Unique Values</th>\n",
       "    </tr>\n",
       "  </thead>\n",
       "  <tbody>\n",
       "    <tr>\n",
       "      <th>race</th>\n",
       "      <td>[Caucasian, AfricanAmerican, ?, Other, Asian, ...</td>\n",
       "    </tr>\n",
       "    <tr>\n",
       "      <th>gender</th>\n",
       "      <td>[Female, Male, Unknown/Invalid]</td>\n",
       "    </tr>\n",
       "    <tr>\n",
       "      <th>age</th>\n",
       "      <td>[[0-10), [10-20), [20-30), [30-40), [40-50), [...</td>\n",
       "    </tr>\n",
       "    <tr>\n",
       "      <th>weight</th>\n",
       "      <td>[?, [75-100), [50-75), [0-25), [100-125), [25-...</td>\n",
       "    </tr>\n",
       "    <tr>\n",
       "      <th>payer_code</th>\n",
       "      <td>[?, MC, MD, HM, UN, BC, SP, CP, SI, DM, CM, CH...</td>\n",
       "    </tr>\n",
       "    <tr>\n",
       "      <th>medical_specialty</th>\n",
       "      <td>[Pediatrics-Endocrinology, ?, InternalMedicine...</td>\n",
       "    </tr>\n",
       "    <tr>\n",
       "      <th>diag_1</th>\n",
       "      <td>[250.83, 276, 648, 8, 197, 414, 428, 398, 434,...</td>\n",
       "    </tr>\n",
       "    <tr>\n",
       "      <th>diag_2</th>\n",
       "      <td>[?, 250.01, 250, 250.43, 157, 411, 492, 427, 1...</td>\n",
       "    </tr>\n",
       "    <tr>\n",
       "      <th>diag_3</th>\n",
       "      <td>[?, 255, V27, 403, 250, V45, 38, 486, 996, 197...</td>\n",
       "    </tr>\n",
       "    <tr>\n",
       "      <th>max_glu_serum</th>\n",
       "      <td>[None, &gt;300, Norm, &gt;200]</td>\n",
       "    </tr>\n",
       "    <tr>\n",
       "      <th>A1Cresult</th>\n",
       "      <td>[None, &gt;7, &gt;8, Norm]</td>\n",
       "    </tr>\n",
       "    <tr>\n",
       "      <th>metformin</th>\n",
       "      <td>[No, Steady, Up, Down]</td>\n",
       "    </tr>\n",
       "    <tr>\n",
       "      <th>repaglinide</th>\n",
       "      <td>[No, Up, Steady, Down]</td>\n",
       "    </tr>\n",
       "    <tr>\n",
       "      <th>nateglinide</th>\n",
       "      <td>[No, Steady, Down, Up]</td>\n",
       "    </tr>\n",
       "    <tr>\n",
       "      <th>chlorpropamide</th>\n",
       "      <td>[No, Steady, Down, Up]</td>\n",
       "    </tr>\n",
       "    <tr>\n",
       "      <th>glimepiride</th>\n",
       "      <td>[No, Steady, Down, Up]</td>\n",
       "    </tr>\n",
       "    <tr>\n",
       "      <th>acetohexamide</th>\n",
       "      <td>[No, Steady]</td>\n",
       "    </tr>\n",
       "    <tr>\n",
       "      <th>glipizide</th>\n",
       "      <td>[No, Steady, Up, Down]</td>\n",
       "    </tr>\n",
       "    <tr>\n",
       "      <th>glyburide</th>\n",
       "      <td>[No, Steady, Up, Down]</td>\n",
       "    </tr>\n",
       "    <tr>\n",
       "      <th>tolbutamide</th>\n",
       "      <td>[No, Steady]</td>\n",
       "    </tr>\n",
       "    <tr>\n",
       "      <th>pioglitazone</th>\n",
       "      <td>[No, Steady, Up, Down]</td>\n",
       "    </tr>\n",
       "    <tr>\n",
       "      <th>rosiglitazone</th>\n",
       "      <td>[No, Steady, Up, Down]</td>\n",
       "    </tr>\n",
       "    <tr>\n",
       "      <th>acarbose</th>\n",
       "      <td>[No, Steady, Up, Down]</td>\n",
       "    </tr>\n",
       "    <tr>\n",
       "      <th>miglitol</th>\n",
       "      <td>[No, Steady, Down, Up]</td>\n",
       "    </tr>\n",
       "    <tr>\n",
       "      <th>troglitazone</th>\n",
       "      <td>[No, Steady]</td>\n",
       "    </tr>\n",
       "    <tr>\n",
       "      <th>tolazamide</th>\n",
       "      <td>[No, Steady, Up]</td>\n",
       "    </tr>\n",
       "    <tr>\n",
       "      <th>examide</th>\n",
       "      <td>[No]</td>\n",
       "    </tr>\n",
       "    <tr>\n",
       "      <th>citoglipton</th>\n",
       "      <td>[No]</td>\n",
       "    </tr>\n",
       "    <tr>\n",
       "      <th>insulin</th>\n",
       "      <td>[No, Up, Steady, Down]</td>\n",
       "    </tr>\n",
       "    <tr>\n",
       "      <th>glyburide-metformin</th>\n",
       "      <td>[No, Steady, Down, Up]</td>\n",
       "    </tr>\n",
       "    <tr>\n",
       "      <th>glipizide-metformin</th>\n",
       "      <td>[No, Steady]</td>\n",
       "    </tr>\n",
       "    <tr>\n",
       "      <th>glimepiride-pioglitazone</th>\n",
       "      <td>[No, Steady]</td>\n",
       "    </tr>\n",
       "    <tr>\n",
       "      <th>metformin-rosiglitazone</th>\n",
       "      <td>[No, Steady]</td>\n",
       "    </tr>\n",
       "    <tr>\n",
       "      <th>metformin-pioglitazone</th>\n",
       "      <td>[No, Steady]</td>\n",
       "    </tr>\n",
       "    <tr>\n",
       "      <th>change</th>\n",
       "      <td>[No, Ch]</td>\n",
       "    </tr>\n",
       "    <tr>\n",
       "      <th>diabetesMed</th>\n",
       "      <td>[No, Yes]</td>\n",
       "    </tr>\n",
       "    <tr>\n",
       "      <th>readmitted</th>\n",
       "      <td>[NO, &gt;30, &lt;30]</td>\n",
       "    </tr>\n",
       "  </tbody>\n",
       "</table>\n",
       "</div>"
      ],
      "text/plain": [
       "                                                              Unique Values\n",
       "race                      [Caucasian, AfricanAmerican, ?, Other, Asian, ...\n",
       "gender                                      [Female, Male, Unknown/Invalid]\n",
       "age                       [[0-10), [10-20), [20-30), [30-40), [40-50), [...\n",
       "weight                    [?, [75-100), [50-75), [0-25), [100-125), [25-...\n",
       "payer_code                [?, MC, MD, HM, UN, BC, SP, CP, SI, DM, CM, CH...\n",
       "medical_specialty         [Pediatrics-Endocrinology, ?, InternalMedicine...\n",
       "diag_1                    [250.83, 276, 648, 8, 197, 414, 428, 398, 434,...\n",
       "diag_2                    [?, 250.01, 250, 250.43, 157, 411, 492, 427, 1...\n",
       "diag_3                    [?, 255, V27, 403, 250, V45, 38, 486, 996, 197...\n",
       "max_glu_serum                                      [None, >300, Norm, >200]\n",
       "A1Cresult                                              [None, >7, >8, Norm]\n",
       "metformin                                            [No, Steady, Up, Down]\n",
       "repaglinide                                          [No, Up, Steady, Down]\n",
       "nateglinide                                          [No, Steady, Down, Up]\n",
       "chlorpropamide                                       [No, Steady, Down, Up]\n",
       "glimepiride                                          [No, Steady, Down, Up]\n",
       "acetohexamide                                                  [No, Steady]\n",
       "glipizide                                            [No, Steady, Up, Down]\n",
       "glyburide                                            [No, Steady, Up, Down]\n",
       "tolbutamide                                                    [No, Steady]\n",
       "pioglitazone                                         [No, Steady, Up, Down]\n",
       "rosiglitazone                                        [No, Steady, Up, Down]\n",
       "acarbose                                             [No, Steady, Up, Down]\n",
       "miglitol                                             [No, Steady, Down, Up]\n",
       "troglitazone                                                   [No, Steady]\n",
       "tolazamide                                                 [No, Steady, Up]\n",
       "examide                                                                [No]\n",
       "citoglipton                                                            [No]\n",
       "insulin                                              [No, Up, Steady, Down]\n",
       "glyburide-metformin                                  [No, Steady, Down, Up]\n",
       "glipizide-metformin                                            [No, Steady]\n",
       "glimepiride-pioglitazone                                       [No, Steady]\n",
       "metformin-rosiglitazone                                        [No, Steady]\n",
       "metformin-pioglitazone                                         [No, Steady]\n",
       "change                                                             [No, Ch]\n",
       "diabetesMed                                                       [No, Yes]\n",
       "readmitted                                                   [NO, >30, <30]"
      ]
     },
     "execution_count": 7,
     "metadata": {},
     "output_type": "execute_result"
    }
   ],
   "source": [
    "# Assigning categorical features into a variable.\n",
    "categorical_cols = diabetes_df.columns[diabetes_df.dtypes=='object']\n",
    "\n",
    "# Assigning an array of unique values for each categorical features.\n",
    "unique_cat_cols = [diabetes_df[i].unique() for i in categorical_cols]\n",
    "\n",
    "# Creating a dataframe to view results.\n",
    "pd.DataFrame({'Unique Values': unique_cat_cols}, index=categorical_cols)"
   ]
  },
  {
   "cell_type": "markdown",
   "metadata": {},
   "source": [
    "From this table, we can see deduct more information about the dataset, most notably are:\n",
    "* `diabetes_df[['age', 'weight']]` depict age and weight in categorical bins, so we can leave it as an `object`;\n",
    "* There are `?` values, which we'll assume are missing data, thus we can treat it as `np.nan`;\n",
    "* `diabetes_df[['admission_type_id', 'discharge_disposition_id, 'admission_source_id']]` are categorical values that are represented in `IDs_mapping.csv`. We need to take a closer look at `IDs_mapping.csv` to gather more information about these features;\n",
    "* `diabetes_df[['diag_1', 'diag_2', 'diag_3']]` are ICD-9 codes for the patient's primary, secondary, and additional diagnoses. We need to have a meaningful categorization for these codes (i.e., Cardiovascular, Pulmonary, etc.);\n",
    "* `diabetes_df[['payer_code', 'medical_specialty']]` can be omitted for our analysis;\n",
    "* There are 23 features regarding any medication that were prescribed or any changes made to the patient;\n",
    "* `diabetes_df['change']` succinctly represents if there any medication changes;\n",
    "* `diabetes_df['diabetes_Med']` notes if there any diabetic medications prescribed to the patients;\n",
    "\n",
    "Using this information, we can continue with our analysis."
   ]
  },
  {
   "cell_type": "code",
   "execution_count": 8,
   "metadata": {
    "ExecuteTime": {
     "end_time": "2020-10-19T23:08:13.476115Z",
     "start_time": "2020-10-19T23:08:13.385868Z"
    },
    "scrolled": false
   },
   "outputs": [],
   "source": [
    "# Replacing ? values with np.nan.\n",
    "diabetes_df.replace('?', np.nan, inplace=True)"
   ]
  },
  {
   "cell_type": "code",
   "execution_count": 9,
   "metadata": {
    "ExecuteTime": {
     "end_time": "2020-10-19T23:08:13.698107Z",
     "start_time": "2020-10-19T23:08:13.689376Z"
    }
   },
   "outputs": [],
   "source": [
    "# Replacing string with np.nan.\n",
    "diabetes_df['gender'].replace('Unknown/Invalid', np.nan, inplace=True)"
   ]
  },
  {
   "cell_type": "markdown",
   "metadata": {},
   "source": [
    "#### Admission Type and Source & Discharge"
   ]
  },
  {
   "cell_type": "code",
   "execution_count": 10,
   "metadata": {
    "ExecuteTime": {
     "end_time": "2020-10-19T23:08:13.960373Z",
     "start_time": "2020-10-19T23:08:13.922145Z"
    },
    "scrolled": true
   },
   "outputs": [],
   "source": [
    "# Replacing null values with np.nan.\n",
    "diabetes_df['admission_type_id'] = diabetes_df['admission_type_id'].replace(\n",
    "    [5, 6, 8], np.nan)\n",
    "\n",
    "# Replacing null values with np.nan.\n",
    "diabetes_df['discharge_disposition_id'] = diabetes_df['discharge_disposition_id'].replace(\n",
    "    [11, 13, 14, 18, 19, 20, 21, 25, 26], np.nan)\n",
    "\n",
    "# Replacing null values with np.nan.\n",
    "diabetes_df['admission_source_id'] = diabetes_df['admission_source_id'].replace(\n",
    "    [9, 15, 17, 20, 21], np.nan)"
   ]
  },
  {
   "cell_type": "code",
   "execution_count": 11,
   "metadata": {
    "ExecuteTime": {
     "end_time": "2020-10-19T23:08:14.289026Z",
     "start_time": "2020-10-19T23:08:14.189926Z"
    }
   },
   "outputs": [],
   "source": [
    "# Changing the features into an object data type.\n",
    "diabetes_df[['admission_type_id', 'discharge_disposition_id', 'admission_source_id']] = diabetes_df[[\n",
    "    'admission_type_id', 'discharge_disposition_id', 'admission_source_id']].astype('object')"
   ]
  },
  {
   "cell_type": "markdown",
   "metadata": {
    "ExecuteTime": {
     "end_time": "2020-10-05T17:31:21.162165Z",
     "start_time": "2020-10-05T17:31:21.154152Z"
    }
   },
   "source": [
    "Taking a closer look at `IDs_mapping.csv`, we can see how `diabetes_df[['admission_type_id', 'discharge_disposition_id', 'admission_source_id']]` are mapped.\n",
    "\n",
    "For example, there are values that represent missing data and values that makes the patient ineligible to be readmitted.\n",
    "\n",
    "We'll omit those observations for our analysis."
   ]
  },
  {
   "cell_type": "markdown",
   "metadata": {},
   "source": [
    "#### ICD-9 Diagnosis"
   ]
  },
  {
   "cell_type": "code",
   "execution_count": 12,
   "metadata": {
    "ExecuteTime": {
     "end_time": "2020-10-19T23:08:14.501366Z",
     "start_time": "2020-10-19T23:08:14.497350Z"
    },
    "run_control": {
     "marked": false
    }
   },
   "outputs": [],
   "source": [
    "icd_9_cols = ['diag_1', 'diag_2', 'diag_3']"
   ]
  },
  {
   "cell_type": "code",
   "execution_count": 13,
   "metadata": {
    "ExecuteTime": {
     "end_time": "2020-10-19T23:08:14.729840Z",
     "start_time": "2020-10-19T23:08:14.706459Z"
    }
   },
   "outputs": [
    {
     "name": "stdout",
     "output_type": "stream",
     "text": [
      "68586    715\n",
      "88579    415\n",
      "92028    227\n",
      "84396    574\n",
      "46796     47\n",
      "24327    414\n",
      "19430    998\n",
      "59201    486\n",
      "70491    789\n",
      "33458    518\n",
      "Name: diag_1, dtype: object\n",
      "------------------------------\n",
      "90980    250.02\n",
      "20128       411\n",
      "59992       427\n",
      "23925       576\n",
      "38116       402\n",
      "32578       491\n",
      "69079       403\n",
      "44459       431\n",
      "51234       998\n",
      "97324       648\n",
      "Name: diag_2, dtype: object\n",
      "------------------------------\n",
      "38770        250\n",
      "5122         427\n",
      "59785        585\n",
      "100915       276\n",
      "64326        427\n",
      "10747        437\n",
      "56768        276\n",
      "44160        401\n",
      "19838     250.41\n",
      "61704        401\n",
      "Name: diag_3, dtype: object\n",
      "------------------------------\n"
     ]
    }
   ],
   "source": [
    "for i in icd_9_cols:\n",
    "    print(diabetes_df[i].sample(10))\n",
    "    print('---'*10)"
   ]
  },
  {
   "cell_type": "markdown",
   "metadata": {
    "ExecuteTime": {
     "end_time": "2020-10-05T17:57:35.552250Z",
     "start_time": "2020-10-05T17:57:35.534251Z"
    }
   },
   "source": [
    "In our dataset, `diabetes_df[['diag_1', 'diag_2', 'diag_3']]` are ICD-9 values which has a combination of `int64`, `float64` and `object` values. Typically, it's in three character notation (i.e., `250` for diabetes mellitus). There are other instances where it could be a `float64` where it can specify additional complication of the disease (i.e., diabetes with ketoacidoses are coded from `250.10` to `250.13`). Lastly, there are codes where it's an `object` value (i.e., `V77.0` for screening for thyroid disorders).\n",
    "\n",
    "To be useful in our analysis, we have to categorize the ICD-9 codes into meaningful classes. The CDC has provided meaning categories for analysis found [here](https://www.cdc.gov/nchs/icd/icd9cm.htm). Additionally, we will be condensing the four and five digit codes into the primary three digit code (i.e., `250.1` or `250.12` will be coded as `250`).\n",
    "\n",
    "*Note: Future analysis can consider ICD-9 codes with added specificities of the diagnosis.*\n",
    "\n",
    "We will use these categories as a placeholder for our diagnoses columns."
   ]
  },
  {
   "cell_type": "code",
   "execution_count": 14,
   "metadata": {
    "ExecuteTime": {
     "end_time": "2020-10-19T23:08:15.660826Z",
     "start_time": "2020-10-19T23:08:14.940824Z"
    },
    "run_control": {
     "marked": false
    }
   },
   "outputs": [],
   "source": [
    "def cleanICDColumns(cols):\n",
    "    \"\"\"\n",
    "    Returns a dataframe object with the primary three digit ICD-9 codes.\n",
    "    \n",
    "    @returns: dataframe object\n",
    "    \"\"\"\n",
    "    # Locates and assigns all codes that has \"V\" or \"E\" with 1000\n",
    "    diabetes_df.loc[((diabetes_df[cols]).str.contains('V') | (diabetes_df[cols]).str.contains('E')), [cols]] = 1000\n",
    "    \n",
    "    # Converts all codes into integer values\n",
    "    diabetes_df[cols] = pd.to_numeric(diabetes_df[cols], errors='coerce')\n",
    "    \n",
    "    # Assigns 0 for null data.\n",
    "    diabetes_df[cols] = diabetes_df[cols].fillna(0).astype(int)\n",
    "    \n",
    "    # Returns results.\n",
    "    return diabetes_df[cols]\n",
    "\n",
    "for i in icd_9_cols:\n",
    "    diabetes_df[i] = cleanICDColumns(i)"
   ]
  },
  {
   "cell_type": "code",
   "execution_count": 15,
   "metadata": {
    "ExecuteTime": {
     "end_time": "2020-10-19T23:08:15.969117Z",
     "start_time": "2020-10-19T23:08:15.869241Z"
    }
   },
   "outputs": [],
   "source": [
    "# Loops through the ICD-9 columns and assigns a value from choices based on the conditions.\n",
    "# Note: Optimization? Cleaner code?\n",
    "for i in icd_9_cols:\n",
    "    col = i\n",
    "\n",
    "    # Conditions are based on ICD-9 categorization per CDC's documentation.\n",
    "    conditions = [(diabetes_df[col] >= 1) & (diabetes_df[col] < 140),\n",
    "                  (diabetes_df[col] >= 140) & (diabetes_df[col] < 240),\n",
    "                  (diabetes_df[col] >= 240) & (diabetes_df[col] < 280),\n",
    "                  (diabetes_df[col] >= 280) & (diabetes_df[col] < 290),\n",
    "                  (diabetes_df[col] >= 290) & (diabetes_df[col] < 320),\n",
    "                  (diabetes_df[col] >= 320) & (diabetes_df[col] < 390),\n",
    "                  (diabetes_df[col] >= 390) & (diabetes_df[col] < 460),\n",
    "                  (diabetes_df[col] >= 460) & (diabetes_df[col] < 520),\n",
    "                  (diabetes_df[col] >= 520) & (diabetes_df[col] < 580),\n",
    "                  (diabetes_df[col] >= 580) & (diabetes_df[col] < 630),\n",
    "                  (diabetes_df[col] >= 630) & (diabetes_df[col] < 680),\n",
    "                  (diabetes_df[col] >= 680) & (diabetes_df[col] < 710),\n",
    "                  (diabetes_df[col] >= 710) & (diabetes_df[col] < 740),\n",
    "                  (diabetes_df[col] >= 740) & (diabetes_df[col] < 760),\n",
    "                  (diabetes_df[col] >= 760) & (diabetes_df[col] < 780),\n",
    "                  (diabetes_df[col] >= 780) & (diabetes_df[col] < 800),\n",
    "                  (diabetes_df[col] >= 800) & (diabetes_df[col] < 1000),\n",
    "                  (diabetes_df[col] == 1000)]\n",
    "\n",
    "    choices = ['1', '2', '3', '4', '5', '6', '7', '8', '9',\n",
    "               '10', '11', '12', '13', '14', '15', '16', '17', '18']\n",
    "\n",
    "    diabetes_df[i] = np.select(conditions, choices, default=None)\n",
    "\n",
    "    # Assigns diagnoses columns as object data type.\n",
    "    diabetes_df[i] = diabetes_df[i].astype('object')"
   ]
  },
  {
   "cell_type": "code",
   "execution_count": 16,
   "metadata": {
    "ExecuteTime": {
     "end_time": "2020-10-19T23:08:16.325052Z",
     "start_time": "2020-10-19T23:08:16.174212Z"
    }
   },
   "outputs": [],
   "source": [
    "# Dropping columns not useful for analysis. Maybe useful features for future analysis.\n",
    "diabetes_df = diabetes_df.drop(columns=['payer_code', 'medical_specialty'])"
   ]
  },
  {
   "cell_type": "code",
   "execution_count": 17,
   "metadata": {
    "ExecuteTime": {
     "end_time": "2020-10-19T23:08:16.571253Z",
     "start_time": "2020-10-19T23:08:16.519583Z"
    }
   },
   "outputs": [],
   "source": [
    "# Assigning readmission status to a binary category.\n",
    "readmitted_dict = {'NO': 0,\n",
    "                   '>30': 0,\n",
    "                   '<30': 1}\n",
    "\n",
    "diabetes_df['readmitted'] = diabetes_df['readmitted'].map(readmitted_dict)"
   ]
  },
  {
   "cell_type": "markdown",
   "metadata": {},
   "source": [
    "## Data Cleaning"
   ]
  },
  {
   "cell_type": "markdown",
   "metadata": {},
   "source": [
    "### Missing Values"
   ]
  },
  {
   "cell_type": "code",
   "execution_count": 18,
   "metadata": {
    "ExecuteTime": {
     "end_time": "2020-10-19T23:08:16.978075Z",
     "start_time": "2020-10-19T23:08:16.774875Z"
    }
   },
   "outputs": [
    {
     "name": "stdout",
     "output_type": "stream",
     "text": [
      "There are 9 column(s) that have missing value(s).\n"
     ]
    },
    {
     "data": {
      "text/html": [
       "<div>\n",
       "<style scoped>\n",
       "    .dataframe tbody tr th:only-of-type {\n",
       "        vertical-align: middle;\n",
       "    }\n",
       "\n",
       "    .dataframe tbody tr th {\n",
       "        vertical-align: top;\n",
       "    }\n",
       "\n",
       "    .dataframe thead th {\n",
       "        text-align: right;\n",
       "    }\n",
       "</style>\n",
       "<table border=\"1\" class=\"dataframe\">\n",
       "  <thead>\n",
       "    <tr style=\"text-align: right;\">\n",
       "      <th></th>\n",
       "      <th>Count of Missing Values</th>\n",
       "      <th>Percentage of Missing Values</th>\n",
       "    </tr>\n",
       "  </thead>\n",
       "  <tbody>\n",
       "    <tr>\n",
       "      <th>weight</th>\n",
       "      <td>98569</td>\n",
       "      <td>96.86</td>\n",
       "    </tr>\n",
       "    <tr>\n",
       "      <th>admission_type_id</th>\n",
       "      <td>10396</td>\n",
       "      <td>10.22</td>\n",
       "    </tr>\n",
       "    <tr>\n",
       "      <th>discharge_disposition_id</th>\n",
       "      <td>7103</td>\n",
       "      <td>6.98</td>\n",
       "    </tr>\n",
       "    <tr>\n",
       "      <th>admission_source_id</th>\n",
       "      <td>7067</td>\n",
       "      <td>6.94</td>\n",
       "    </tr>\n",
       "    <tr>\n",
       "      <th>race</th>\n",
       "      <td>2273</td>\n",
       "      <td>2.23</td>\n",
       "    </tr>\n",
       "    <tr>\n",
       "      <th>diag_3</th>\n",
       "      <td>1423</td>\n",
       "      <td>1.40</td>\n",
       "    </tr>\n",
       "    <tr>\n",
       "      <th>diag_2</th>\n",
       "      <td>358</td>\n",
       "      <td>0.35</td>\n",
       "    </tr>\n",
       "    <tr>\n",
       "      <th>diag_1</th>\n",
       "      <td>21</td>\n",
       "      <td>0.02</td>\n",
       "    </tr>\n",
       "    <tr>\n",
       "      <th>gender</th>\n",
       "      <td>3</td>\n",
       "      <td>0.00</td>\n",
       "    </tr>\n",
       "  </tbody>\n",
       "</table>\n",
       "</div>"
      ],
      "text/plain": [
       "                          Count of Missing Values  \\\n",
       "weight                                      98569   \n",
       "admission_type_id                           10396   \n",
       "discharge_disposition_id                     7103   \n",
       "admission_source_id                          7067   \n",
       "race                                         2273   \n",
       "diag_3                                       1423   \n",
       "diag_2                                        358   \n",
       "diag_1                                         21   \n",
       "gender                                          3   \n",
       "\n",
       "                          Percentage of Missing Values  \n",
       "weight                                           96.86  \n",
       "admission_type_id                                10.22  \n",
       "discharge_disposition_id                          6.98  \n",
       "admission_source_id                               6.94  \n",
       "race                                              2.23  \n",
       "diag_3                                            1.40  \n",
       "diag_2                                            0.35  \n",
       "diag_1                                            0.02  \n",
       "gender                                            0.00  "
      ]
     },
     "execution_count": 18,
     "metadata": {},
     "output_type": "execute_result"
    }
   ],
   "source": [
    "def missingValuesTable(df):\n",
    "    \"\"\"\n",
    "    Returns a dataframe object that displays number of columns with missing values, count and \n",
    "    percentage of missing values per column.\n",
    "\n",
    "    @return dataframe :object:\n",
    "    \"\"\"\n",
    "    # Total missing values\n",
    "    missing_values = df.isnull().sum()\n",
    "\n",
    "    # Percentage of missing values\n",
    "    missing_values_pct = (missing_values * 100) / len(df)\n",
    "\n",
    "    # Making a table with the results\n",
    "    missing_table = pd.concat([missing_values, missing_values_pct], axis=1)\n",
    "\n",
    "    # Renaming the columns\n",
    "    missing_table_cols = missing_table.rename(\n",
    "        columns={0: 'Count of Missing Values', 1: 'Percentage of Missing Values'})\n",
    "\n",
    "    # Sorting the table\n",
    "    missing_table_cols = missing_table_cols[missing_table_cols.iloc[:, 1] != 0].sort_values(\n",
    "        'Percentage of Missing Values', ascending=False).round(2)\n",
    "\n",
    "    # Summary information\n",
    "    print(\n",
    "        f'There are {str(missing_table_cols.shape[0])} column(s) that have missing value(s).')\n",
    "\n",
    "    # Return the table with the missing information\n",
    "    return missing_table_cols\n",
    "\n",
    "\n",
    "missingValuesTable(diabetes_df)"
   ]
  },
  {
   "cell_type": "markdown",
   "metadata": {},
   "source": [
    "The table above shows the number of missing values and the percentage of missing values for columns with missing data. In general, missing data is to be expected when analyzing data collected from EHRs. [Wells et. al (2013)](https://www.ncbi.nlm.nih.gov/pmc/articles/PMC4371484/) argues that missing data from EHR can occur due to the lack of collection or the lack of documentation. These scenarios are common: for example, instead of recording that the patient does not have a history of asthma, the value is left blank.\n",
    "\n",
    "The most common way to deal with our missing data is to do a listwise deletion, where we remove observations with missing data. However, this method introduced bias, suggesting that patients with missing data are **systematically** different from other patients. \n",
    "\n",
    "Alternative methods to deal with missing data is to first identify the type of missing data present in the dataset. Statistically speaking, there are three types of missing data:\n",
    "1. Missing completely at random (MCAR)\n",
    "2. Missing at random (MAR)\n",
    "3. Missing not at random (MNAR)\n",
    "\n",
    "Wells et. al (2013) suggests that missing data, within the EHR context, can be imputed; other features extracted in the EHR can explain some, but not all, of the variation of the missingness of patient data. Unlike listwise deletion, imputation methods replaces missing data with substituted values.\n",
    "\n",
    "However, we can perform listwise deletion for `diabetes_df['weight']` as the missigness is explained by the fact that before 2009, hospitals and clinics were not required to collect structural data for this feature."
   ]
  },
  {
   "cell_type": "code",
   "execution_count": 19,
   "metadata": {
    "ExecuteTime": {
     "end_time": "2020-10-19T23:08:18.507552Z",
     "start_time": "2020-10-19T23:08:18.448956Z"
    }
   },
   "outputs": [],
   "source": [
    "# Dropping weight column\n",
    "diabetes_df_clean = diabetes_df.drop(axis=1, columns='weight')"
   ]
  },
  {
   "cell_type": "code",
   "execution_count": 111,
   "metadata": {
    "ExecuteTime": {
     "end_time": "2020-10-20T00:24:44.195287Z",
     "start_time": "2020-10-20T00:24:44.041020Z"
    }
   },
   "outputs": [
    {
     "name": "stdout",
     "output_type": "stream",
     "text": [
      "race        AfricanAmerican  Asian  Caucasian  Hispanic  Other  Total\n",
      "readmitted                                                           \n",
      "0                     17055    576      67507      1825   1361  88324\n",
      "1                      2155     65       8592       212    145  11169\n",
      "Total                 19210    641      76099      2037   1506  99493\n",
      "------------------------------\n",
      "[[17055, 576, 67507, 1825, 1361, 88324], [2155, 65, 8592, 212, 145, 11169]]\n",
      "------------------------------\n",
      "[[17053   569 67556  1808  1336 88324]\n",
      " [ 2156    71  8542   228   169 11169]]\n"
     ]
    }
   ],
   "source": [
    "y = diabetes_df_clean['readmitted']\n",
    "x = diabetes_df_clean['race']\n",
    "\n",
    "race_readmitted_ct = pd.crosstab(y, x, margins=True, margins_name='Total')\n",
    "print(race_readmitted_ct)\n",
    "print('---' * 10)\n",
    "array = [race_readmitted_ct.loc[0].values.tolist(), race_readmitted_ct.loc[1].values.tolist()]\n",
    "print(array)\n",
    "print('---' * 10)\n",
    "from scipy.stats.contingency import expected_freq\n",
    "expected = expected_freq(array).astype('int')\n",
    "print(expected)"
   ]
  },
  {
   "cell_type": "markdown",
   "metadata": {},
   "source": [
    "## Exploratory Analysis"
   ]
  },
  {
   "cell_type": "markdown",
   "metadata": {},
   "source": [
    "With our categorical features sorted, we can take a deeper look at the distributions of our features using the `seaborn` and `matplotlib.pyplot` libraries.\n",
    "\n",
    "We can start by looking at the distribution of readmission rates of our patient population."
   ]
  },
  {
   "cell_type": "markdown",
   "metadata": {},
   "source": [
    "##### Readmission Outcome Distribution"
   ]
  },
  {
   "cell_type": "code",
   "execution_count": null,
   "metadata": {
    "ExecuteTime": {
     "end_time": "2020-10-09T15:47:03.335540Z",
     "start_time": "2020-10-09T15:47:02.782736Z"
    },
    "code_folding": [
     0
    ],
    "run_control": {
     "marked": false
    },
    "scrolled": false
   },
   "outputs": [],
   "source": [
    "# Plotting readmission counts.\n",
    "with sns.plotting_context(context='notebook'):\n",
    "    sns.set_style('ticks')\n",
    "    sns.set_palette('colorblind')\n",
    "    ax_1 = sns.catplot(x='readmitted', data=diabetes_df,\n",
    "                       kind='count', saturation=0.5)\n",
    "    ax_1.fig.set_size_inches(6, 5)\n",
    "    ax_1.set_xticklabels(['>30 Days', '<30 Days'])\n",
    "    plt.title('Count of Readmission')\n",
    "    plt.xlabel('Readmission Outcome')\n",
    "    plt.ylabel('Count')\n",
    "\n",
    "    # Adding labels.\n",
    "    for i in ax_1.ax.patches:\n",
    "        h = i.get_height()\n",
    "        total = len(diabetes_df)\n",
    "        count = int(h)\n",
    "        ax_1.ax.text(i.get_x() + i.get_width() / 2, h + 1500, '{} ({:.2f}%)'.format(\n",
    "            count, (count / total) * 100), ha='center', va='center', fontweight='medium', size=12)\n",
    "    \n",
    "    # Preparing figure for export.\n",
    "    # plt.savefig('readmission-distribution.png', bbox_inches='tight')"
   ]
  },
  {
   "cell_type": "markdown",
   "metadata": {},
   "source": [
    "11.16% of the observations were readmitted within 30 days of discharge. This poses an imbalance class problem, which can produce inaccurate predictions in classification models. We can address this problem by ensuring that the training and test data are balanced (i.e., an equal distribution of observations where `diabetes_df['readmitted'] == 0` and `diabetes_df['readmitted'] == 1`). "
   ]
  }
 ],
 "metadata": {
  "celltoolbar": "Initialization Cell",
  "kernelspec": {
   "display_name": "Python [conda env:root] *",
   "language": "python",
   "name": "conda-root-py"
  },
  "language_info": {
   "codemirror_mode": {
    "name": "ipython",
    "version": 3
   },
   "file_extension": ".py",
   "mimetype": "text/x-python",
   "name": "python",
   "nbconvert_exporter": "python",
   "pygments_lexer": "ipython3",
   "version": "3.8.3"
  },
  "latex_envs": {
   "LaTeX_envs_menu_present": true,
   "autoclose": false,
   "autocomplete": true,
   "bibliofile": "biblio.bib",
   "cite_by": "apalike",
   "current_citInitial": 1,
   "eqLabelWithNumbers": true,
   "eqNumInitial": 1,
   "hotkeys": {
    "equation": "Ctrl-E",
    "itemize": "Ctrl-I"
   },
   "labels_anchors": false,
   "latex_user_defs": false,
   "report_style_numbering": false,
   "user_envs_cfg": false
  },
  "notify_time": "30",
  "toc": {
   "base_numbering": 1,
   "nav_menu": {},
   "number_sections": true,
   "sideBar": true,
   "skip_h1_title": false,
   "title_cell": "Table of Contents",
   "title_sidebar": "Contents",
   "toc_cell": false,
   "toc_position": {
    "height": "calc(100% - 180px)",
    "left": "10px",
    "top": "150px",
    "width": "242px"
   },
   "toc_section_display": true,
   "toc_window_display": false
  },
  "varInspector": {
   "cols": {
    "lenName": 16,
    "lenType": 16,
    "lenVar": 40
   },
   "kernels_config": {
    "python": {
     "delete_cmd_postfix": "",
     "delete_cmd_prefix": "del ",
     "library": "var_list.py",
     "varRefreshCmd": "print(var_dic_list())"
    },
    "r": {
     "delete_cmd_postfix": ") ",
     "delete_cmd_prefix": "rm(",
     "library": "var_list.r",
     "varRefreshCmd": "cat(var_dic_list()) "
    }
   },
   "position": {
    "height": "519px",
    "left": "904px",
    "right": "20px",
    "top": "109px",
    "width": "338px"
   },
   "types_to_exclude": [
    "module",
    "function",
    "builtin_function_or_method",
    "instance",
    "_Feature"
   ],
   "window_display": false
  }
 },
 "nbformat": 4,
 "nbformat_minor": 4
}
