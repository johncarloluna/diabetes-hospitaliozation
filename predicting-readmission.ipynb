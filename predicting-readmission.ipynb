{
 "cells": [
  {
   "cell_type": "markdown",
   "metadata": {},
   "source": [
    "# Introduction"
   ]
  },
  {
   "cell_type": "markdown",
   "metadata": {},
   "source": [
    "Health care is moving towards a value-based care model that incentivizes health care providers for providing quality care, quantified by improvements of the patient's health outcomes. This model involves understanding the health care needs of patients, integrating a multidisciplinary team to develop solutions that impact population health, and measuring health outcomes of patients to drive ongoing quality improvement projects.\n",
    "\n",
    "With the advent of electronic health data and recent innovations in the field of machine learning, large and complex clinical data have been used by health care professionals to have answer pressing problems. Machine learning methods have been used to improve patient risk stratification for specific infections, disease prediction, and streamlining hospital operations.\n",
    "\n",
    "Centers for Medicare & Medicaid Services (CMS) have created various value-based programs that incentivizes health care providers to provide better care and value to patients. For instance, the [Hospital Readmission Reduction Program](https://www.cms.gov/index.php/Medicare/Quality-Initiatives-Patient-Assessment-Instruments/Value-Based-Programs/HRRP/Hospital-Readmission-Reduction-Program) focuses on improving care coordination efforts in order to reduce readmission rates, effectively saving health care costs for both the provider and the patient. \n",
    "\n",
    "The program defines readmission as:\n",
    "\n",
    "1. Unplanned readmissions that happen within 30 days of discharge from the initial admission and;\n",
    "2. Patients who are readmitted to the same hospital, or another applicable acute care hospital for any reason.\n",
    "\n",
    "This notebook will focus on applying classification models to identify patients who are at risk for readmission, as defined by the HRRP. The data used for this project can be found in the [UCI Machine Learning Repository](https://archive.ics.uci.edu/ml/datasets/diabetes+130-us+hospitals+for+years+1999-2008)."
   ]
  },
  {
   "cell_type": "markdown",
   "metadata": {},
   "source": [
    "## Data Set Information"
   ]
  },
  {
   "cell_type": "markdown",
   "metadata": {},
   "source": [
    "The data has been prepared to analyze factors related to readmission as well as other outcomes pertaining to patients with diabetes. This data has been used to study the impact of HbA1c measurement and hospital readmission rates (see [here](https://www.hindawi.com/journals/bmri/2014/781670/)).\n",
    "\n",
    "As mentioned in the article, the data represents 10 years of clinical care at 130 US hospitals and integrated delivery networks. The data has been de-identified and each observations in the dataset satisfy the following criteria:\n",
    "\n",
    "1. an inpatient encounter (i.e., hospital admission),\n",
    "2. a diabetic encounter (i.e., any kind of diabetes has been identified as one the patient's diagnosis),\n",
    "3. the length of stay was at least 1 day and at most 14 days,\n",
    "4. laboratory tests were performed during the encounter and;\n",
    "5. medications were administered during the encounter.\n",
    "\n",
    "More information about the data can be found in the article in the following [link](https://www.hindawi.com/journals/bmri/2014/781670/)."
   ]
  },
  {
   "cell_type": "markdown",
   "metadata": {},
   "source": [
    "# Methodology"
   ]
  },
  {
   "cell_type": "markdown",
   "metadata": {},
   "source": [
    "## Data Exploration"
   ]
  },
  {
   "cell_type": "code",
   "execution_count": 1,
   "metadata": {
    "ExecuteTime": {
     "end_time": "2020-10-09T15:46:56.532417Z",
     "start_time": "2020-10-09T15:46:52.010637Z"
    }
   },
   "outputs": [],
   "source": [
    "# Installing packages.\n",
    "import pandas as pd\n",
    "import numpy as np\n",
    "import seaborn as sns\n",
    "import matplotlib.pyplot as plt"
   ]
  },
  {
   "cell_type": "code",
   "execution_count": 2,
   "metadata": {
    "ExecuteTime": {
     "end_time": "2020-10-09T15:46:57.154506Z",
     "start_time": "2020-10-09T15:46:56.581422Z"
    }
   },
   "outputs": [
    {
     "name": "stdout",
     "output_type": "stream",
     "text": [
      "The dataset has 101766 observations and 50 features.\n"
     ]
    }
   ],
   "source": [
    "# Load data into a pandas dataframe.\n",
    "diabetes_df = pd.read_csv(\"diabetic_data.csv\", low_memory=False)\n",
    "\n",
    "# Returning number of observations and features of the data.\n",
    "print(f'The dataset has {diabetes_df.shape[0]} observations and {diabetes_df.shape[1]} features.')"
   ]
  },
  {
   "cell_type": "code",
   "execution_count": 3,
   "metadata": {
    "ExecuteTime": {
     "end_time": "2020-10-09T15:46:57.375756Z",
     "start_time": "2020-10-09T15:46:57.347530Z"
    }
   },
   "outputs": [
    {
     "data": {
      "text/plain": [
       "object    37\n",
       "int64     13\n",
       "dtype: int64"
      ]
     },
     "execution_count": 3,
     "metadata": {},
     "output_type": "execute_result"
    }
   ],
   "source": [
    "# Returning data types for the features.\n",
    "diabetes_df.dtypes.value_counts()"
   ]
  },
  {
   "cell_type": "code",
   "execution_count": 4,
   "metadata": {
    "ExecuteTime": {
     "end_time": "2020-10-09T15:46:57.562783Z",
     "start_time": "2020-10-09T15:46:57.549784Z"
    }
   },
   "outputs": [
    {
     "data": {
      "text/plain": [
       "Index(['race', 'gender', 'age', 'weight', 'payer_code', 'medical_specialty',\n",
       "       'diag_1', 'diag_2', 'diag_3', 'max_glu_serum', 'A1Cresult', 'metformin',\n",
       "       'repaglinide', 'nateglinide', 'chlorpropamide', 'glimepiride',\n",
       "       'acetohexamide', 'glipizide', 'glyburide', 'tolbutamide',\n",
       "       'pioglitazone', 'rosiglitazone', 'acarbose', 'miglitol', 'troglitazone',\n",
       "       'tolazamide', 'examide', 'citoglipton', 'insulin',\n",
       "       'glyburide-metformin', 'glipizide-metformin',\n",
       "       'glimepiride-pioglitazone', 'metformin-rosiglitazone',\n",
       "       'metformin-pioglitazone', 'change', 'diabetesMed', 'readmitted'],\n",
       "      dtype='object')"
      ]
     },
     "execution_count": 4,
     "metadata": {},
     "output_type": "execute_result"
    }
   ],
   "source": [
    "# Returning categorical features.\n",
    "diabetes_df.columns[diabetes_df.dtypes == 'object']"
   ]
  },
  {
   "cell_type": "code",
   "execution_count": 5,
   "metadata": {
    "ExecuteTime": {
     "end_time": "2020-10-09T15:46:57.738800Z",
     "start_time": "2020-10-09T15:46:57.723798Z"
    }
   },
   "outputs": [
    {
     "data": {
      "text/plain": [
       "Index(['encounter_id', 'patient_nbr', 'admission_type_id',\n",
       "       'discharge_disposition_id', 'admission_source_id', 'time_in_hospital',\n",
       "       'num_lab_procedures', 'num_procedures', 'num_medications',\n",
       "       'number_outpatient', 'number_emergency', 'number_inpatient',\n",
       "       'number_diagnoses'],\n",
       "      dtype='object')"
      ]
     },
     "execution_count": 5,
     "metadata": {},
     "output_type": "execute_result"
    }
   ],
   "source": [
    "# Returning numerical features.\n",
    "diabetes_df.columns[diabetes_df.dtypes != 'object']"
   ]
  },
  {
   "cell_type": "markdown",
   "metadata": {},
   "source": [
    "Of our 50 features, 37 are `object` or categorical features and 13 `int64` or numerical features. \n",
    "\n",
    "With a quick glance at our features, we see several things that sets a direction for our analysis:\n",
    "* `diabetes_df['age']` is seen as an `object`, but should be `int64`;\n",
    "* `diabetes_df['readmitted']` is our output value that will be used for our classification models;\n",
    "* `diabetes_df[['encounter_id', 'patient_nbr]]` are patient identifiers that are not useful for analysis;\n",
    "* `diabetes_df[['admission_type_id', 'discharge_disposition_id, 'admission_source_id']]`, are seen as `int64`, but should be `object`.\n",
    "\n",
    "We can see that data cleaning is needed to correct our features into the proper data types and remove predictors that aren't useful for our analysis.\n",
    "\n",
    "Let's take a closer look at our features."
   ]
  },
  {
   "cell_type": "code",
   "execution_count": 6,
   "metadata": {
    "ExecuteTime": {
     "end_time": "2020-10-09T15:46:57.976827Z",
     "start_time": "2020-10-09T15:46:57.898820Z"
    }
   },
   "outputs": [],
   "source": [
    "diabetes_df = diabetes_df.drop(columns=['encounter_id', 'patient_nbr'])"
   ]
  },
  {
   "cell_type": "markdown",
   "metadata": {},
   "source": [
    "### Categorical Features"
   ]
  },
  {
   "cell_type": "code",
   "execution_count": 7,
   "metadata": {
    "ExecuteTime": {
     "end_time": "2020-10-09T15:46:58.498643Z",
     "start_time": "2020-10-09T15:46:58.168843Z"
    },
    "run_control": {
     "marked": false
    },
    "scrolled": false
   },
   "outputs": [
    {
     "data": {
      "text/html": [
       "<div>\n",
       "<style scoped>\n",
       "    .dataframe tbody tr th:only-of-type {\n",
       "        vertical-align: middle;\n",
       "    }\n",
       "\n",
       "    .dataframe tbody tr th {\n",
       "        vertical-align: top;\n",
       "    }\n",
       "\n",
       "    .dataframe thead th {\n",
       "        text-align: right;\n",
       "    }\n",
       "</style>\n",
       "<table border=\"1\" class=\"dataframe\">\n",
       "  <thead>\n",
       "    <tr style=\"text-align: right;\">\n",
       "      <th></th>\n",
       "      <th>Unique Values</th>\n",
       "    </tr>\n",
       "  </thead>\n",
       "  <tbody>\n",
       "    <tr>\n",
       "      <th>race</th>\n",
       "      <td>[Caucasian, AfricanAmerican, ?, Other, Asian, ...</td>\n",
       "    </tr>\n",
       "    <tr>\n",
       "      <th>gender</th>\n",
       "      <td>[Female, Male, Unknown/Invalid]</td>\n",
       "    </tr>\n",
       "    <tr>\n",
       "      <th>age</th>\n",
       "      <td>[[0-10), [10-20), [20-30), [30-40), [40-50), [...</td>\n",
       "    </tr>\n",
       "    <tr>\n",
       "      <th>weight</th>\n",
       "      <td>[?, [75-100), [50-75), [0-25), [100-125), [25-...</td>\n",
       "    </tr>\n",
       "    <tr>\n",
       "      <th>payer_code</th>\n",
       "      <td>[?, MC, MD, HM, UN, BC, SP, CP, SI, DM, CM, CH...</td>\n",
       "    </tr>\n",
       "    <tr>\n",
       "      <th>medical_specialty</th>\n",
       "      <td>[Pediatrics-Endocrinology, ?, InternalMedicine...</td>\n",
       "    </tr>\n",
       "    <tr>\n",
       "      <th>diag_1</th>\n",
       "      <td>[250.83, 276, 648, 8, 197, 414, 428, 398, 434,...</td>\n",
       "    </tr>\n",
       "    <tr>\n",
       "      <th>diag_2</th>\n",
       "      <td>[?, 250.01, 250, 250.43, 157, 411, 492, 427, 1...</td>\n",
       "    </tr>\n",
       "    <tr>\n",
       "      <th>diag_3</th>\n",
       "      <td>[?, 255, V27, 403, 250, V45, 38, 486, 996, 197...</td>\n",
       "    </tr>\n",
       "    <tr>\n",
       "      <th>max_glu_serum</th>\n",
       "      <td>[None, &gt;300, Norm, &gt;200]</td>\n",
       "    </tr>\n",
       "    <tr>\n",
       "      <th>A1Cresult</th>\n",
       "      <td>[None, &gt;7, &gt;8, Norm]</td>\n",
       "    </tr>\n",
       "    <tr>\n",
       "      <th>metformin</th>\n",
       "      <td>[No, Steady, Up, Down]</td>\n",
       "    </tr>\n",
       "    <tr>\n",
       "      <th>repaglinide</th>\n",
       "      <td>[No, Up, Steady, Down]</td>\n",
       "    </tr>\n",
       "    <tr>\n",
       "      <th>nateglinide</th>\n",
       "      <td>[No, Steady, Down, Up]</td>\n",
       "    </tr>\n",
       "    <tr>\n",
       "      <th>chlorpropamide</th>\n",
       "      <td>[No, Steady, Down, Up]</td>\n",
       "    </tr>\n",
       "    <tr>\n",
       "      <th>glimepiride</th>\n",
       "      <td>[No, Steady, Down, Up]</td>\n",
       "    </tr>\n",
       "    <tr>\n",
       "      <th>acetohexamide</th>\n",
       "      <td>[No, Steady]</td>\n",
       "    </tr>\n",
       "    <tr>\n",
       "      <th>glipizide</th>\n",
       "      <td>[No, Steady, Up, Down]</td>\n",
       "    </tr>\n",
       "    <tr>\n",
       "      <th>glyburide</th>\n",
       "      <td>[No, Steady, Up, Down]</td>\n",
       "    </tr>\n",
       "    <tr>\n",
       "      <th>tolbutamide</th>\n",
       "      <td>[No, Steady]</td>\n",
       "    </tr>\n",
       "    <tr>\n",
       "      <th>pioglitazone</th>\n",
       "      <td>[No, Steady, Up, Down]</td>\n",
       "    </tr>\n",
       "    <tr>\n",
       "      <th>rosiglitazone</th>\n",
       "      <td>[No, Steady, Up, Down]</td>\n",
       "    </tr>\n",
       "    <tr>\n",
       "      <th>acarbose</th>\n",
       "      <td>[No, Steady, Up, Down]</td>\n",
       "    </tr>\n",
       "    <tr>\n",
       "      <th>miglitol</th>\n",
       "      <td>[No, Steady, Down, Up]</td>\n",
       "    </tr>\n",
       "    <tr>\n",
       "      <th>troglitazone</th>\n",
       "      <td>[No, Steady]</td>\n",
       "    </tr>\n",
       "    <tr>\n",
       "      <th>tolazamide</th>\n",
       "      <td>[No, Steady, Up]</td>\n",
       "    </tr>\n",
       "    <tr>\n",
       "      <th>examide</th>\n",
       "      <td>[No]</td>\n",
       "    </tr>\n",
       "    <tr>\n",
       "      <th>citoglipton</th>\n",
       "      <td>[No]</td>\n",
       "    </tr>\n",
       "    <tr>\n",
       "      <th>insulin</th>\n",
       "      <td>[No, Up, Steady, Down]</td>\n",
       "    </tr>\n",
       "    <tr>\n",
       "      <th>glyburide-metformin</th>\n",
       "      <td>[No, Steady, Down, Up]</td>\n",
       "    </tr>\n",
       "    <tr>\n",
       "      <th>glipizide-metformin</th>\n",
       "      <td>[No, Steady]</td>\n",
       "    </tr>\n",
       "    <tr>\n",
       "      <th>glimepiride-pioglitazone</th>\n",
       "      <td>[No, Steady]</td>\n",
       "    </tr>\n",
       "    <tr>\n",
       "      <th>metformin-rosiglitazone</th>\n",
       "      <td>[No, Steady]</td>\n",
       "    </tr>\n",
       "    <tr>\n",
       "      <th>metformin-pioglitazone</th>\n",
       "      <td>[No, Steady]</td>\n",
       "    </tr>\n",
       "    <tr>\n",
       "      <th>change</th>\n",
       "      <td>[No, Ch]</td>\n",
       "    </tr>\n",
       "    <tr>\n",
       "      <th>diabetesMed</th>\n",
       "      <td>[No, Yes]</td>\n",
       "    </tr>\n",
       "    <tr>\n",
       "      <th>readmitted</th>\n",
       "      <td>[NO, &gt;30, &lt;30]</td>\n",
       "    </tr>\n",
       "  </tbody>\n",
       "</table>\n",
       "</div>"
      ],
      "text/plain": [
       "                                                              Unique Values\n",
       "race                      [Caucasian, AfricanAmerican, ?, Other, Asian, ...\n",
       "gender                                      [Female, Male, Unknown/Invalid]\n",
       "age                       [[0-10), [10-20), [20-30), [30-40), [40-50), [...\n",
       "weight                    [?, [75-100), [50-75), [0-25), [100-125), [25-...\n",
       "payer_code                [?, MC, MD, HM, UN, BC, SP, CP, SI, DM, CM, CH...\n",
       "medical_specialty         [Pediatrics-Endocrinology, ?, InternalMedicine...\n",
       "diag_1                    [250.83, 276, 648, 8, 197, 414, 428, 398, 434,...\n",
       "diag_2                    [?, 250.01, 250, 250.43, 157, 411, 492, 427, 1...\n",
       "diag_3                    [?, 255, V27, 403, 250, V45, 38, 486, 996, 197...\n",
       "max_glu_serum                                      [None, >300, Norm, >200]\n",
       "A1Cresult                                              [None, >7, >8, Norm]\n",
       "metformin                                            [No, Steady, Up, Down]\n",
       "repaglinide                                          [No, Up, Steady, Down]\n",
       "nateglinide                                          [No, Steady, Down, Up]\n",
       "chlorpropamide                                       [No, Steady, Down, Up]\n",
       "glimepiride                                          [No, Steady, Down, Up]\n",
       "acetohexamide                                                  [No, Steady]\n",
       "glipizide                                            [No, Steady, Up, Down]\n",
       "glyburide                                            [No, Steady, Up, Down]\n",
       "tolbutamide                                                    [No, Steady]\n",
       "pioglitazone                                         [No, Steady, Up, Down]\n",
       "rosiglitazone                                        [No, Steady, Up, Down]\n",
       "acarbose                                             [No, Steady, Up, Down]\n",
       "miglitol                                             [No, Steady, Down, Up]\n",
       "troglitazone                                                   [No, Steady]\n",
       "tolazamide                                                 [No, Steady, Up]\n",
       "examide                                                                [No]\n",
       "citoglipton                                                            [No]\n",
       "insulin                                              [No, Up, Steady, Down]\n",
       "glyburide-metformin                                  [No, Steady, Down, Up]\n",
       "glipizide-metformin                                            [No, Steady]\n",
       "glimepiride-pioglitazone                                       [No, Steady]\n",
       "metformin-rosiglitazone                                        [No, Steady]\n",
       "metformin-pioglitazone                                         [No, Steady]\n",
       "change                                                             [No, Ch]\n",
       "diabetesMed                                                       [No, Yes]\n",
       "readmitted                                                   [NO, >30, <30]"
      ]
     },
     "execution_count": 7,
     "metadata": {},
     "output_type": "execute_result"
    }
   ],
   "source": [
    "# Assigning categorical features into a variable.\n",
    "categorical_cols = diabetes_df.columns[diabetes_df.dtypes=='object']\n",
    "\n",
    "# Assigning an array of unique values for each categorical features.\n",
    "unique_cat_cols = [diabetes_df[i].unique() for i in categorical_cols]\n",
    "\n",
    "# Creating a dataframe to view results.\n",
    "pd.DataFrame({'Unique Values': unique_cat_cols}, index=categorical_cols)"
   ]
  },
  {
   "cell_type": "markdown",
   "metadata": {},
   "source": [
    "From this table, we can see deduct more information about the dataset, most notably are:\n",
    "* `diabetes_df[['age', 'weight']]` depict age and weight in categorical bins, so we can leave it as an `object`;\n",
    "* There are `?` values, which we'll assume are missing data, thus we can treat it as `np.nan`;\n",
    "* `diabetes_df[['admission_type_id', 'discharge_disposition_id, 'admission_source_id']]` are categorical values that are represented in `IDs_mapping.csv`. We need to take a closer look at `IDs_mapping.csv` to gather more information about these features;\n",
    "* `diabetes_df[['diag_1', 'diag_2', 'diag_3']]` are ICD-9 codes for the patient's primary, secondary, and additional diagnoses. We need to have a meaningful categorization for these codes (i.e., Cardiovascular, Pulmonary, etc.);\n",
    "* `diabetes_df[['payer_code', 'medical_specialty']]` can be omitted for our analysis;\n",
    "* There are 23 features regarding any medication that were prescribed or any changes made to the patient;\n",
    "* `diabetes_df['change']` succinctly represents if there any medication changes;\n",
    "* `diabetes_df['diabetes_Med']` notes if there any diabetic medications prescribed to the patients;\n",
    "\n",
    "Using this information, we can continue with our analysis."
   ]
  },
  {
   "cell_type": "code",
   "execution_count": 8,
   "metadata": {
    "ExecuteTime": {
     "end_time": "2020-10-09T15:46:58.912837Z",
     "start_time": "2020-10-09T15:46:58.802823Z"
    },
    "scrolled": false
   },
   "outputs": [],
   "source": [
    "# Replacing ? values with np.nan.\n",
    "diabetes_df.replace('?', np.nan, inplace=True)"
   ]
  },
  {
   "cell_type": "code",
   "execution_count": 31,
   "metadata": {
    "ExecuteTime": {
     "end_time": "2020-10-09T15:55:19.307188Z",
     "start_time": "2020-10-09T15:55:19.296189Z"
    }
   },
   "outputs": [],
   "source": [
    "# Replacing string with np.nan.\n",
    "diabetes_df['gender'].replace('Unknown/Invalid', np.nan, inplace=True)"
   ]
  },
  {
   "cell_type": "markdown",
   "metadata": {},
   "source": [
    "#### Admission Type and Source & Discharge"
   ]
  },
  {
   "cell_type": "code",
   "execution_count": 9,
   "metadata": {
    "ExecuteTime": {
     "end_time": "2020-10-09T15:46:59.260879Z",
     "start_time": "2020-10-09T15:46:59.230867Z"
    },
    "scrolled": true
   },
   "outputs": [],
   "source": [
    "# Replacing null values with np.nan.\n",
    "diabetes_df['admission_type_id'] = diabetes_df['admission_type_id'].replace(\n",
    "    [5, 6, 8], np.nan)\n",
    "\n",
    "# Replacing null values with np.nan.\n",
    "diabetes_df['discharge_disposition_id'] = diabetes_df['discharge_disposition_id'].replace(\n",
    "    [11, 13, 14, 18, 19, 20, 21, 25, 26], np.nan)\n",
    "\n",
    "# Replacing null values with np.nan.\n",
    "diabetes_df['admission_source_id'] = diabetes_df['admission_source_id'].replace(\n",
    "    [9, 15, 17, 20, 21], np.nan)"
   ]
  },
  {
   "cell_type": "code",
   "execution_count": 10,
   "metadata": {
    "ExecuteTime": {
     "end_time": "2020-10-09T15:46:59.627088Z",
     "start_time": "2020-10-09T15:46:59.550070Z"
    }
   },
   "outputs": [],
   "source": [
    "# Changing the features into an object data type.\n",
    "diabetes_df[['admission_type_id', 'discharge_disposition_id', 'admission_source_id']] = diabetes_df[[\n",
    "    'admission_type_id', 'discharge_disposition_id', 'admission_source_id']].astype('object')"
   ]
  },
  {
   "cell_type": "markdown",
   "metadata": {
    "ExecuteTime": {
     "end_time": "2020-10-05T17:31:21.162165Z",
     "start_time": "2020-10-05T17:31:21.154152Z"
    }
   },
   "source": [
    "Taking a closer look at `IDs_mapping.csv`, we can see how `diabetes_df[['admission_type_id', 'discharge_disposition_id', 'admission_source_id']]` are mapped.\n",
    "\n",
    "For example, there are values that represent missing data and values that makes the patient ineligible to be readmitted.\n",
    "\n",
    "We'll omit those observations for our analysis."
   ]
  },
  {
   "cell_type": "markdown",
   "metadata": {},
   "source": [
    "#### ICD-9 Diagnosis"
   ]
  },
  {
   "cell_type": "code",
   "execution_count": 11,
   "metadata": {
    "ExecuteTime": {
     "end_time": "2020-10-09T15:46:59.929128Z",
     "start_time": "2020-10-09T15:46:59.916128Z"
    },
    "run_control": {
     "marked": false
    }
   },
   "outputs": [],
   "source": [
    "icd_9_cols = ['diag_1', 'diag_2', 'diag_3']"
   ]
  },
  {
   "cell_type": "code",
   "execution_count": 12,
   "metadata": {
    "ExecuteTime": {
     "end_time": "2020-10-09T15:47:00.249153Z",
     "start_time": "2020-10-09T15:47:00.219151Z"
    }
   },
   "outputs": [
    {
     "name": "stdout",
     "output_type": "stream",
     "text": [
      "45206       410\n",
      "74761    250.13\n",
      "3898        414\n",
      "96149       584\n",
      "19120       276\n",
      "17863       154\n",
      "80853       820\n",
      "16704       440\n",
      "94952       493\n",
      "95853     250.8\n",
      "Name: diag_1, dtype: object\n",
      "------------------------------\n",
      "45957    403\n",
      "16393    410\n",
      "43412    428\n",
      "82947    486\n",
      "16663    414\n",
      "51839    403\n",
      "9898     250\n",
      "49483    185\n",
      "48958    581\n",
      "46958    571\n",
      "Name: diag_2, dtype: object\n",
      "------------------------------\n",
      "70116    250\n",
      "81081    491\n",
      "20187    414\n",
      "25702    599\n",
      "53526    781\n",
      "30371    427\n",
      "90526    599\n",
      "5758     424\n",
      "7453     250\n",
      "5445     486\n",
      "Name: diag_3, dtype: object\n",
      "------------------------------\n"
     ]
    }
   ],
   "source": [
    "for i in icd_9_cols:\n",
    "    print(diabetes_df[i].sample(10))\n",
    "    print('---'*10)"
   ]
  },
  {
   "cell_type": "markdown",
   "metadata": {
    "ExecuteTime": {
     "end_time": "2020-10-05T17:57:35.552250Z",
     "start_time": "2020-10-05T17:57:35.534251Z"
    }
   },
   "source": [
    "In our dataset, `diabetes_df[['diag_1', 'diag_2', 'diag_3']]` are ICD-9 values which has a combination of `int64`, `float64` and `object` values. Typically, it's in three character notation (i.e., `250` for diabetes mellitus). There are other instances where it could be a `float64` where it can specify additional complication of the disease (i.e., diabetes with ketoacidoses are coded from `250.10` to `250.13`). Lastly, there are codes where it's an `object` value (i.e., `V77.0` for screening for thyroid disorders).\n",
    "\n",
    "To be useful in our analysis, we have to categorize the ICD-9 codes into meaningful classes. The CDC has provided meaning categories for analysis found [here](https://www.cdc.gov/nchs/icd/icd9cm.htm). Additionally, we will be condensing the four and five digit codes into the primary three digit code (i.e., `250.1` or `250.12` will be coded as `250`).\n",
    "\n",
    "*Note: Future analysis will consider ICD-9 codes with added specificities of the diagnosis.*\n",
    "\n",
    "We will use these categories as a placeholder for our diagnoses columns."
   ]
  },
  {
   "cell_type": "code",
   "execution_count": 13,
   "metadata": {
    "ExecuteTime": {
     "end_time": "2020-10-09T15:47:01.441392Z",
     "start_time": "2020-10-09T15:47:00.597892Z"
    },
    "run_control": {
     "marked": false
    }
   },
   "outputs": [],
   "source": [
    "def cleanICDColumns(cols):\n",
    "    \"\"\"\n",
    "    Returns a dataframe object with the primary three digit ICD-9 codes.\n",
    "    \n",
    "    @returns: dataframe object\n",
    "    \"\"\"\n",
    "    # Locates and assigns all codes that has \"V\" or \"E\" with 1000\n",
    "    diabetes_df.loc[((diabetes_df[cols]).str.contains('V') | (diabetes_df[cols]).str.contains('E')), [cols]] = 1000\n",
    "    \n",
    "    # Converts all codes into integer values\n",
    "    diabetes_df[cols] = pd.to_numeric(diabetes_df[cols], errors='coerce')\n",
    "    \n",
    "    # Assigns 0 for null data.\n",
    "    diabetes_df[cols] = diabetes_df[cols].fillna(0).astype(int)\n",
    "    \n",
    "    # Returns results.\n",
    "    return diabetes_df[cols]\n",
    "\n",
    "for i in icd_9_cols:\n",
    "    diabetes_df[i] = cleanICDColumns(i)"
   ]
  },
  {
   "cell_type": "code",
   "execution_count": 14,
   "metadata": {
    "ExecuteTime": {
     "end_time": "2020-10-09T15:47:01.839635Z",
     "start_time": "2020-10-09T15:47:01.699409Z"
    }
   },
   "outputs": [],
   "source": [
    "# Loops through the ICD-9 columns and assigns a value from choices based on the conditions.\n",
    "# Note: Optimization? Cleaner code?\n",
    "for i in icd_9_cols:\n",
    "    col = i\n",
    "\n",
    "    # Conditions are based on ICD-9 categorization per CDC's documentation.\n",
    "    conditions = [(diabetes_df[col] >= 1) & (diabetes_df[col] < 140),\n",
    "                  (diabetes_df[col] >= 140) & (diabetes_df[col] < 240),\n",
    "                  (diabetes_df[col] >= 240) & (diabetes_df[col] < 280),\n",
    "                  (diabetes_df[col] >= 280) & (diabetes_df[col] < 290),\n",
    "                  (diabetes_df[col] >= 290) & (diabetes_df[col] < 320),\n",
    "                  (diabetes_df[col] >= 320) & (diabetes_df[col] < 390),\n",
    "                  (diabetes_df[col] >= 390) & (diabetes_df[col] < 460),\n",
    "                  (diabetes_df[col] >= 460) & (diabetes_df[col] < 520),\n",
    "                  (diabetes_df[col] >= 520) & (diabetes_df[col] < 580),\n",
    "                  (diabetes_df[col] >= 580) & (diabetes_df[col] < 630),\n",
    "                  (diabetes_df[col] >= 630) & (diabetes_df[col] < 680),\n",
    "                  (diabetes_df[col] >= 680) & (diabetes_df[col] < 710),\n",
    "                  (diabetes_df[col] >= 710) & (diabetes_df[col] < 740),\n",
    "                  (diabetes_df[col] >= 740) & (diabetes_df[col] < 760),\n",
    "                  (diabetes_df[col] >= 760) & (diabetes_df[col] < 780),\n",
    "                  (diabetes_df[col] >= 780) & (diabetes_df[col] < 800),\n",
    "                  (diabetes_df[col] >= 800) & (diabetes_df[col] < 1000),\n",
    "                  (diabetes_df[col] == 1000)]\n",
    "\n",
    "    choices = ['1', '2', '3', '4', '5', '6', '7', '8', '9',\n",
    "               '10', '11', '12', '13', '14', '15', '16', '17', '18']\n",
    "\n",
    "    diabetes_df[i] = np.select(conditions, choices, default=None)\n",
    "\n",
    "    # Assigns diagnoses columns as object data type.\n",
    "    diabetes_df[i] = diabetes_df[i].astype('object')"
   ]
  },
  {
   "cell_type": "code",
   "execution_count": 15,
   "metadata": {
    "ExecuteTime": {
     "end_time": "2020-10-09T15:47:02.253675Z",
     "start_time": "2020-10-09T15:47:02.127664Z"
    }
   },
   "outputs": [],
   "source": [
    "# Dropping columns not useful for analysis. Maybe useful features for future analysis.\n",
    "diabetes_df = diabetes_df.drop(columns=['payer_code', 'medical_specialty'])"
   ]
  },
  {
   "cell_type": "code",
   "execution_count": 16,
   "metadata": {
    "ExecuteTime": {
     "end_time": "2020-10-09T15:47:02.541712Z",
     "start_time": "2020-10-09T15:47:02.494703Z"
    }
   },
   "outputs": [],
   "source": [
    "# Assigning readmission status to a binary category.\n",
    "readmitted_dict = {'NO': 0,\n",
    "                   '>30': 0,\n",
    "                   '<30': 1}\n",
    "\n",
    "diabetes_df['readmitted'] = diabetes_df['readmitted'].map(readmitted_dict)"
   ]
  },
  {
   "cell_type": "markdown",
   "metadata": {},
   "source": [
    "#### Exploratory Analysis"
   ]
  },
  {
   "cell_type": "markdown",
   "metadata": {},
   "source": [
    "With our categorical features sorted, we can take a deeper look at the distributions of our features using the `seaborn` and `matplotlib.pyplot` libraries.\n",
    "\n",
    "We can start by looking at the distribution of readmission rates of our patient population."
   ]
  },
  {
   "cell_type": "markdown",
   "metadata": {},
   "source": [
    "##### Readmission Outcome Distribution"
   ]
  },
  {
   "cell_type": "code",
   "execution_count": 17,
   "metadata": {
    "ExecuteTime": {
     "end_time": "2020-10-09T15:47:03.335540Z",
     "start_time": "2020-10-09T15:47:02.782736Z"
    },
    "code_folding": [
     0
    ],
    "run_control": {
     "marked": false
    },
    "scrolled": false
   },
   "outputs": [
    {
     "data": {
      "image/png": "[encoded data removed]",
      "text/plain": [
       "<Figure size 432x360 with 1 Axes>"
      ]
     },
     "metadata": {},
     "output_type": "display_data"
    }
   ],
   "source": [
    "# Plotting readmission counts.\n",
    "with sns.plotting_context(context='notebook'):\n",
    "    sns.set_style('ticks')\n",
    "    sns.set_palette('colorblind')\n",
    "    ax_1 = sns.catplot(x='readmitted', data=diabetes_df,\n",
    "                       kind='count', saturation=0.5)\n",
    "    ax_1.fig.set_size_inches(6, 5)\n",
    "    ax_1.set_xticklabels(['>30 Days', '<30 Days'])\n",
    "    plt.title('Count of Readmission')\n",
    "    plt.xlabel('Readmission Outcome')\n",
    "    plt.ylabel('Count')\n",
    "\n",
    "    # Adding labels.\n",
    "    for i in ax_1.ax.patches:\n",
    "        h = i.get_height()\n",
    "        total = len(diabetes_df)\n",
    "        count = int(h)\n",
    "        ax_1.ax.text(i.get_x() + i.get_width() / 2, h + 1500, '{} ({:.2f}%)'.format(\n",
    "            count, (count / total) * 100), ha='center', va='center', fontweight='medium', size=12)\n",
    "    \n",
    "    # Preparing figure for export.\n",
    "    # plt.savefig('readmission-distribution.png', bbox_inches='tight')"
   ]
  },
  {
   "cell_type": "markdown",
   "metadata": {},
   "source": [
    "11.16% of the observations were readmitted within 30 days of discharge. This poses an imbalance class problem, which can produce inaccurate predictions in classification models. We can address this problem by ensuring that the training and test data are balanced (i.e., an equal distribution of observations where `diabetes_df['readmitted'] == 0` and `diabetes_df['readmitted'] == 1`). "
   ]
  },
  {
   "cell_type": "markdown",
   "metadata": {},
   "source": [
    "### Numerical Features"
   ]
  },
  {
   "cell_type": "code",
   "execution_count": 28,
   "metadata": {
    "ExecuteTime": {
     "end_time": "2020-10-09T15:52:59.533483Z",
     "start_time": "2020-10-09T15:52:59.436488Z"
    }
   },
   "outputs": [
    {
     "data": {
      "text/html": [
       "<div>\n",
       "<style scoped>\n",
       "    .dataframe tbody tr th:only-of-type {\n",
       "        vertical-align: middle;\n",
       "    }\n",
       "\n",
       "    .dataframe tbody tr th {\n",
       "        vertical-align: top;\n",
       "    }\n",
       "\n",
       "    .dataframe thead th {\n",
       "        text-align: right;\n",
       "    }\n",
       "</style>\n",
       "<table border=\"1\" class=\"dataframe\">\n",
       "  <thead>\n",
       "    <tr style=\"text-align: right;\">\n",
       "      <th></th>\n",
       "      <th>time_in_hospital</th>\n",
       "      <th>num_lab_procedures</th>\n",
       "      <th>num_procedures</th>\n",
       "      <th>num_medications</th>\n",
       "      <th>number_outpatient</th>\n",
       "      <th>number_emergency</th>\n",
       "      <th>number_inpatient</th>\n",
       "      <th>number_diagnoses</th>\n",
       "      <th>readmitted</th>\n",
       "    </tr>\n",
       "  </thead>\n",
       "  <tbody>\n",
       "    <tr>\n",
       "      <th>count</th>\n",
       "      <td>101766.000000</td>\n",
       "      <td>101766.000000</td>\n",
       "      <td>101766.000000</td>\n",
       "      <td>101766.000000</td>\n",
       "      <td>101766.000000</td>\n",
       "      <td>101766.000000</td>\n",
       "      <td>101766.000000</td>\n",
       "      <td>101766.000000</td>\n",
       "      <td>101766.000000</td>\n",
       "    </tr>\n",
       "    <tr>\n",
       "      <th>mean</th>\n",
       "      <td>4.395987</td>\n",
       "      <td>43.095641</td>\n",
       "      <td>1.339730</td>\n",
       "      <td>16.021844</td>\n",
       "      <td>0.369357</td>\n",
       "      <td>0.197836</td>\n",
       "      <td>0.635566</td>\n",
       "      <td>7.422607</td>\n",
       "      <td>0.111599</td>\n",
       "    </tr>\n",
       "    <tr>\n",
       "      <th>std</th>\n",
       "      <td>2.985108</td>\n",
       "      <td>19.674362</td>\n",
       "      <td>1.705807</td>\n",
       "      <td>8.127566</td>\n",
       "      <td>1.267265</td>\n",
       "      <td>0.930472</td>\n",
       "      <td>1.262863</td>\n",
       "      <td>1.933600</td>\n",
       "      <td>0.314874</td>\n",
       "    </tr>\n",
       "    <tr>\n",
       "      <th>min</th>\n",
       "      <td>1.000000</td>\n",
       "      <td>1.000000</td>\n",
       "      <td>0.000000</td>\n",
       "      <td>1.000000</td>\n",
       "      <td>0.000000</td>\n",
       "      <td>0.000000</td>\n",
       "      <td>0.000000</td>\n",
       "      <td>1.000000</td>\n",
       "      <td>0.000000</td>\n",
       "    </tr>\n",
       "    <tr>\n",
       "      <th>25%</th>\n",
       "      <td>2.000000</td>\n",
       "      <td>31.000000</td>\n",
       "      <td>0.000000</td>\n",
       "      <td>10.000000</td>\n",
       "      <td>0.000000</td>\n",
       "      <td>0.000000</td>\n",
       "      <td>0.000000</td>\n",
       "      <td>6.000000</td>\n",
       "      <td>0.000000</td>\n",
       "    </tr>\n",
       "    <tr>\n",
       "      <th>50%</th>\n",
       "      <td>4.000000</td>\n",
       "      <td>44.000000</td>\n",
       "      <td>1.000000</td>\n",
       "      <td>15.000000</td>\n",
       "      <td>0.000000</td>\n",
       "      <td>0.000000</td>\n",
       "      <td>0.000000</td>\n",
       "      <td>8.000000</td>\n",
       "      <td>0.000000</td>\n",
       "    </tr>\n",
       "    <tr>\n",
       "      <th>75%</th>\n",
       "      <td>6.000000</td>\n",
       "      <td>57.000000</td>\n",
       "      <td>2.000000</td>\n",
       "      <td>20.000000</td>\n",
       "      <td>0.000000</td>\n",
       "      <td>0.000000</td>\n",
       "      <td>1.000000</td>\n",
       "      <td>9.000000</td>\n",
       "      <td>0.000000</td>\n",
       "    </tr>\n",
       "    <tr>\n",
       "      <th>max</th>\n",
       "      <td>14.000000</td>\n",
       "      <td>132.000000</td>\n",
       "      <td>6.000000</td>\n",
       "      <td>81.000000</td>\n",
       "      <td>42.000000</td>\n",
       "      <td>76.000000</td>\n",
       "      <td>21.000000</td>\n",
       "      <td>16.000000</td>\n",
       "      <td>1.000000</td>\n",
       "    </tr>\n",
       "  </tbody>\n",
       "</table>\n",
       "</div>"
      ],
      "text/plain": [
       "       time_in_hospital  num_lab_procedures  num_procedures  num_medications  \\\n",
       "count     101766.000000       101766.000000   101766.000000    101766.000000   \n",
       "mean           4.395987           43.095641        1.339730        16.021844   \n",
       "std            2.985108           19.674362        1.705807         8.127566   \n",
       "min            1.000000            1.000000        0.000000         1.000000   \n",
       "25%            2.000000           31.000000        0.000000        10.000000   \n",
       "50%            4.000000           44.000000        1.000000        15.000000   \n",
       "75%            6.000000           57.000000        2.000000        20.000000   \n",
       "max           14.000000          132.000000        6.000000        81.000000   \n",
       "\n",
       "       number_outpatient  number_emergency  number_inpatient  \\\n",
       "count      101766.000000     101766.000000     101766.000000   \n",
       "mean            0.369357          0.197836          0.635566   \n",
       "std             1.267265          0.930472          1.262863   \n",
       "min             0.000000          0.000000          0.000000   \n",
       "25%             0.000000          0.000000          0.000000   \n",
       "50%             0.000000          0.000000          0.000000   \n",
       "75%             0.000000          0.000000          1.000000   \n",
       "max            42.000000         76.000000         21.000000   \n",
       "\n",
       "       number_diagnoses     readmitted  \n",
       "count     101766.000000  101766.000000  \n",
       "mean           7.422607       0.111599  \n",
       "std            1.933600       0.314874  \n",
       "min            1.000000       0.000000  \n",
       "25%            6.000000       0.000000  \n",
       "50%            8.000000       0.000000  \n",
       "75%            9.000000       0.000000  \n",
       "max           16.000000       1.000000  "
      ]
     },
     "execution_count": 28,
     "metadata": {},
     "output_type": "execute_result"
    }
   ],
   "source": [
    "diabetes_df.describe()"
   ]
  },
  {
   "cell_type": "markdown",
   "metadata": {},
   "source": [
    "## Data Cleaning"
   ]
  },
  {
   "cell_type": "markdown",
   "metadata": {},
   "source": [
    "### Missing Values"
   ]
  },
  {
   "cell_type": "code",
   "execution_count": 35,
   "metadata": {
    "ExecuteTime": {
     "end_time": "2020-10-09T16:05:00.497708Z",
     "start_time": "2020-10-09T16:05:00.319698Z"
    }
   },
   "outputs": [
    {
     "name": "stdout",
     "output_type": "stream",
     "text": [
      "There are 9 column(s) that have missing value(s).\n"
     ]
    },
    {
     "data": {
      "text/html": [
       "<div>\n",
       "<style scoped>\n",
       "    .dataframe tbody tr th:only-of-type {\n",
       "        vertical-align: middle;\n",
       "    }\n",
       "\n",
       "    .dataframe tbody tr th {\n",
       "        vertical-align: top;\n",
       "    }\n",
       "\n",
       "    .dataframe thead th {\n",
       "        text-align: right;\n",
       "    }\n",
       "</style>\n",
       "<table border=\"1\" class=\"dataframe\">\n",
       "  <thead>\n",
       "    <tr style=\"text-align: right;\">\n",
       "      <th></th>\n",
       "      <th>Count of Missing Values</th>\n",
       "      <th>Percentage of Missing Values</th>\n",
       "    </tr>\n",
       "  </thead>\n",
       "  <tbody>\n",
       "    <tr>\n",
       "      <th>weight</th>\n",
       "      <td>98569</td>\n",
       "      <td>96.86</td>\n",
       "    </tr>\n",
       "    <tr>\n",
       "      <th>admission_type_id</th>\n",
       "      <td>10396</td>\n",
       "      <td>10.22</td>\n",
       "    </tr>\n",
       "    <tr>\n",
       "      <th>discharge_disposition_id</th>\n",
       "      <td>7103</td>\n",
       "      <td>6.98</td>\n",
       "    </tr>\n",
       "    <tr>\n",
       "      <th>admission_source_id</th>\n",
       "      <td>7067</td>\n",
       "      <td>6.94</td>\n",
       "    </tr>\n",
       "    <tr>\n",
       "      <th>race</th>\n",
       "      <td>2273</td>\n",
       "      <td>2.23</td>\n",
       "    </tr>\n",
       "    <tr>\n",
       "      <th>diag_3</th>\n",
       "      <td>1423</td>\n",
       "      <td>1.40</td>\n",
       "    </tr>\n",
       "    <tr>\n",
       "      <th>diag_2</th>\n",
       "      <td>358</td>\n",
       "      <td>0.35</td>\n",
       "    </tr>\n",
       "    <tr>\n",
       "      <th>diag_1</th>\n",
       "      <td>21</td>\n",
       "      <td>0.02</td>\n",
       "    </tr>\n",
       "    <tr>\n",
       "      <th>gender</th>\n",
       "      <td>3</td>\n",
       "      <td>0.00</td>\n",
       "    </tr>\n",
       "  </tbody>\n",
       "</table>\n",
       "</div>"
      ],
      "text/plain": [
       "                          Count of Missing Values  \\\n",
       "weight                                      98569   \n",
       "admission_type_id                           10396   \n",
       "discharge_disposition_id                     7103   \n",
       "admission_source_id                          7067   \n",
       "race                                         2273   \n",
       "diag_3                                       1423   \n",
       "diag_2                                        358   \n",
       "diag_1                                         21   \n",
       "gender                                          3   \n",
       "\n",
       "                          Percentage of Missing Values  \n",
       "weight                                           96.86  \n",
       "admission_type_id                                10.22  \n",
       "discharge_disposition_id                          6.98  \n",
       "admission_source_id                               6.94  \n",
       "race                                              2.23  \n",
       "diag_3                                            1.40  \n",
       "diag_2                                            0.35  \n",
       "diag_1                                            0.02  \n",
       "gender                                            0.00  "
      ]
     },
     "execution_count": 35,
     "metadata": {},
     "output_type": "execute_result"
    }
   ],
   "source": [
    "def missingValuesTable(df):\n",
    "    \"\"\"\n",
    "    Returns a dataframe object that displays number of columns with missing values, count and \n",
    "    percentage of missing values per column.\n",
    "\n",
    "    @return dataframe :object:\n",
    "    \"\"\"\n",
    "    # Total missing values\n",
    "    missing_values = df.isnull().sum()\n",
    "\n",
    "    # Percentage of missing values\n",
    "    missing_values_pct = (missing_values * 100) / len(df)\n",
    "\n",
    "    # Making a table with the results\n",
    "    missing_table = pd.concat([missing_values, missing_values_pct], axis=1)\n",
    "\n",
    "    # Renaming the columns\n",
    "    missing_table_cols = missing_table.rename(\n",
    "        columns={0: 'Count of Missing Values', 1: 'Percentage of Missing Values'})\n",
    "\n",
    "    # Sorting the table\n",
    "    missing_table_cols = missing_table_cols[missing_table_cols.iloc[:, 1] != 0].sort_values(\n",
    "        'Percentage of Missing Values', ascending=False).round(2)\n",
    "\n",
    "    # Summary information\n",
    "    print(\n",
    "        f'There are {str(missing_table_cols.shape[0])} column(s) that have missing value(s).')\n",
    "\n",
    "    # Return the table with the missing information\n",
    "    return missing_table_cols\n",
    "\n",
    "\n",
    "missingValuesTable(diabetes_df)"
   ]
  },
  {
   "cell_type": "markdown",
   "metadata": {},
   "source": []
  }
 ],
 "metadata": {
  "celltoolbar": "Initialization Cell",
  "kernelspec": {
   "display_name": "Python [conda env:root] *",
   "language": "python",
   "name": "conda-root-py"
  },
  "language_info": {
   "codemirror_mode": {
    "name": "ipython",
    "version": 3
   },
   "file_extension": ".py",
   "mimetype": "text/x-python",
   "name": "python",
   "nbconvert_exporter": "python",
   "pygments_lexer": "ipython3",
   "version": "3.8.5"
  },
  "toc": {
   "base_numbering": 1,
   "nav_menu": {},
   "number_sections": true,
   "sideBar": true,
   "skip_h1_title": false,
   "title_cell": "Table of Contents",
   "title_sidebar": "Contents",
   "toc_cell": false,
   "toc_position": {
    "height": "calc(100% - 180px)",
    "left": "10px",
    "top": "150px",
    "width": "242px"
   },
   "toc_section_display": true,
   "toc_window_display": true
  },
  "varInspector": {
   "cols": {
    "lenName": 16,
    "lenType": 16,
    "lenVar": 40
   },
   "kernels_config": {
    "python": {
     "delete_cmd_postfix": "",
     "delete_cmd_prefix": "del ",
     "library": "var_list.py",
     "varRefreshCmd": "print(var_dic_list())"
    },
    "r": {
     "delete_cmd_postfix": ") ",
     "delete_cmd_prefix": "rm(",
     "library": "var_list.r",
     "varRefreshCmd": "cat(var_dic_list()) "
    }
   },
   "position": {
    "height": "519px",
    "left": "1322px",
    "right": "20px",
    "top": "120px",
    "width": "338px"
   },
   "types_to_exclude": [
    "module",
    "function",
    "builtin_function_or_method",
    "instance",
    "_Feature"
   ],
   "window_display": false
  }
 },
 "nbformat": 4,
 "nbformat_minor": 4
}
