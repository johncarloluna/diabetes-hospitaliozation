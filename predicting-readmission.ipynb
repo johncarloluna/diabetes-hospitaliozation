{
 "cells": [
  {
   "cell_type": "markdown",
   "metadata": {},
   "source": [
    "# Introduction"
   ]
  },
  {
   "cell_type": "markdown",
   "metadata": {},
   "source": [
    "Health care is moving towards a value-based care model that incentivizes health care providers for providing quality care, quantified by improvements of the patient's health outcomes. This model involves understanding the health care needs of patients, integrating a multidisciplinary team to develop solutions that impact population health, and measuring health outcomes of patients to drive ongoing quality improvement projects.\n",
    "\n",
    "With the advent of electronic health data and recent innovations in the field of machine learning, large and complex clinical data have been used by health care professionals to have answer pressing problems. Machine learning methods have been used to improve patient risk stratification for specific infections, disease prediction, and streamlining hospital operations.\n",
    "\n",
    "Centers for Medicare & Medicaid Services (CMS) have created various value-based programs that incentivizes health care providers to provide better care and value to patients. For instance, the [Hospital Readmission Reduction Program](https://www.cms.gov/index.php/Medicare/Quality-Initiatives-Patient-Assessment-Instruments/Value-Based-Programs/HRRP/Hospital-Readmission-Reduction-Program) focuses on improving care coordination efforts in order to reduce readmission rates, effectively saving health care costs for both the provider and the patient. \n",
    "\n",
    "The program defines readmission as:\n",
    "\n",
    "1. Unplanned readmissions that happen within 30 days of discharge from the initial admission and;\n",
    "2. Patients who are readmitted to the same hospital, or another applicable acute care hospital for any reason.\n",
    "\n",
    "This notebook will focus on applying classification models to identify patients who are at risk for readmission, as defined by the HRRP. The data used for this project can be found in the [UCI Machine Learning Repository](https://archive.ics.uci.edu/ml/datasets/diabetes+130-us+hospitals+for+years+1999-2008)."
   ]
  },
  {
   "cell_type": "markdown",
   "metadata": {},
   "source": [
    "## Data Set Information"
   ]
  },
  {
   "cell_type": "markdown",
   "metadata": {},
   "source": [
    "The data has been prepared to analyze factors related to readmission as well as other outcomes pertaining to patients with diabetes. This data has been used to study the impact of HbA1c measurement and hospital readmission rates (see [here](https://www.hindawi.com/journals/bmri/2014/781670/)).\n",
    "\n",
    "As mentioned in the article, the data represents 10 years of clinical care at 130 US hospitals and integrated delivery networks. The data has been de-identified and each observations in the dataset satisfy the following criteria:\n",
    "\n",
    "1. an inpatient encounter (i.e., hospital admission),\n",
    "2. a diabetic encounter (i.e., any kind of diabetes has been identified as one the patient's diagnosis),\n",
    "3. the length of stay was at least 1 day and at most 14 days,\n",
    "4. laboratory tests were performed during the encounter and;\n",
    "5. medications were administered during the encounter.\n",
    "\n",
    "More information about the data can be found in the article in the following [link](https://www.hindawi.com/journals/bmri/2014/781670/)."
   ]
  },
  {
   "cell_type": "markdown",
   "metadata": {},
   "source": [
    "# Methodology"
   ]
  },
  {
   "cell_type": "markdown",
   "metadata": {},
   "source": [
    "## Data Exploration"
   ]
  },
  {
   "cell_type": "code",
   "execution_count": null,
   "metadata": {
    "ExecuteTime": {
     "end_time": "2020-10-05T18:56:05.882127Z",
     "start_time": "2020-10-05T18:56:03.224Z"
    },
    "init_cell": true
   },
   "outputs": [],
   "source": [
    "# Installing packages.\n",
    "import pandas as pd\n",
    "import numpy as np"
   ]
  },
  {
   "cell_type": "code",
   "execution_count": null,
   "metadata": {
    "ExecuteTime": {
     "end_time": "2020-10-05T18:56:05.883127Z",
     "start_time": "2020-10-05T18:56:03.226Z"
    },
    "init_cell": true
   },
   "outputs": [],
   "source": [
    "# Load data into a pandas dataframe.\n",
    "diabetes_df = pd.read_csv(\"diabetic_data.csv\", low_memory=False)\n",
    "\n",
    "# Returning number of observations and features of the data.\n",
    "print(f'The dataset has {diabetes_df.shape[0]} observations and {diabetes_df.shape[1]} features.')"
   ]
  },
  {
   "cell_type": "code",
   "execution_count": 5,
   "metadata": {
    "ExecuteTime": {
     "end_time": "2020-10-05T18:56:04.874038Z",
     "start_time": "2020-10-05T18:56:04.860036Z"
    }
   },
   "outputs": [
    {
     "data": {
      "text/plain": [
       "object    37\n",
       "int64     13\n",
       "dtype: int64"
      ]
     },
     "execution_count": 5,
     "metadata": {},
     "output_type": "execute_result"
    }
   ],
   "source": [
    "# Returning data types for the features.\n",
    "diabetes_df.dtypes.value_counts()"
   ]
  },
  {
   "cell_type": "code",
   "execution_count": 6,
   "metadata": {
    "ExecuteTime": {
     "end_time": "2020-10-05T18:56:04.890040Z",
     "start_time": "2020-10-05T18:56:04.876039Z"
    }
   },
   "outputs": [
    {
     "data": {
      "text/plain": [
       "Index(['race', 'gender', 'age', 'weight', 'payer_code', 'medical_specialty',\n",
       "       'diag_1', 'diag_2', 'diag_3', 'max_glu_serum', 'A1Cresult', 'metformin',\n",
       "       'repaglinide', 'nateglinide', 'chlorpropamide', 'glimepiride',\n",
       "       'acetohexamide', 'glipizide', 'glyburide', 'tolbutamide',\n",
       "       'pioglitazone', 'rosiglitazone', 'acarbose', 'miglitol', 'troglitazone',\n",
       "       'tolazamide', 'examide', 'citoglipton', 'insulin',\n",
       "       'glyburide-metformin', 'glipizide-metformin',\n",
       "       'glimepiride-pioglitazone', 'metformin-rosiglitazone',\n",
       "       'metformin-pioglitazone', 'change', 'diabetesMed', 'readmitted'],\n",
       "      dtype='object')"
      ]
     },
     "execution_count": 6,
     "metadata": {},
     "output_type": "execute_result"
    }
   ],
   "source": [
    "# Returning categorical features.\n",
    "diabetes_df.columns[diabetes_df.dtypes=='object']"
   ]
  },
  {
   "cell_type": "code",
   "execution_count": 7,
   "metadata": {
    "ExecuteTime": {
     "end_time": "2020-10-05T18:56:04.922041Z",
     "start_time": "2020-10-05T18:56:04.896040Z"
    }
   },
   "outputs": [
    {
     "data": {
      "text/plain": [
       "Index(['encounter_id', 'patient_nbr', 'admission_type_id',\n",
       "       'discharge_disposition_id', 'admission_source_id', 'time_in_hospital',\n",
       "       'num_lab_procedures', 'num_procedures', 'num_medications',\n",
       "       'number_outpatient', 'number_emergency', 'number_inpatient',\n",
       "       'number_diagnoses'],\n",
       "      dtype='object')"
      ]
     },
     "execution_count": 7,
     "metadata": {},
     "output_type": "execute_result"
    }
   ],
   "source": [
    "# Returning numerical features.\n",
    "diabetes_df.columns[diabetes_df.dtypes!='object']"
   ]
  },
  {
   "cell_type": "markdown",
   "metadata": {},
   "source": [
    "Of our 50 features, 37 are `object` or categorical features and 13 `int64` or numerical features. \n",
    "\n",
    "With a quick glance at our features, we see several things that sets a direction for our analysis:\n",
    "* `diabetes_df['age']` is seen as an `object`, but should be `int64`;\n",
    "* `diabetes_df['readmitted']` is our output value that will be used for our classification models;\n",
    "* `diabetes_df[['encounter_id', 'patient_nbr]]` are patient identifiers that are not useful for analysis;\n",
    "* `diabetes_df[['admission_type_id', 'discharge_disposition_id, 'admission_source_id']]`, are seen as `int64`, but should be `object`.\n",
    "\n",
    "We can see that data cleaning is needed to correct our features into the proper data types and remove predictors that aren't useful for our analysis.\n",
    "\n",
    "Let's take a closer look at our features."
   ]
  },
  {
   "cell_type": "markdown",
   "metadata": {},
   "source": [
    "### Categorical Features"
   ]
  },
  {
   "cell_type": "code",
   "execution_count": 8,
   "metadata": {
    "ExecuteTime": {
     "end_time": "2020-10-05T18:56:05.162058Z",
     "start_time": "2020-10-05T18:56:04.924042Z"
    },
    "run_control": {
     "marked": false
    },
    "scrolled": false
   },
   "outputs": [
    {
     "data": {
      "text/html": [
       "<div>\n",
       "<style scoped>\n",
       "    .dataframe tbody tr th:only-of-type {\n",
       "        vertical-align: middle;\n",
       "    }\n",
       "\n",
       "    .dataframe tbody tr th {\n",
       "        vertical-align: top;\n",
       "    }\n",
       "\n",
       "    .dataframe thead th {\n",
       "        text-align: right;\n",
       "    }\n",
       "</style>\n",
       "<table border=\"1\" class=\"dataframe\">\n",
       "  <thead>\n",
       "    <tr style=\"text-align: right;\">\n",
       "      <th></th>\n",
       "      <th>Unique Values</th>\n",
       "    </tr>\n",
       "  </thead>\n",
       "  <tbody>\n",
       "    <tr>\n",
       "      <th>race</th>\n",
       "      <td>[Caucasian, AfricanAmerican, ?, Other, Asian, ...</td>\n",
       "    </tr>\n",
       "    <tr>\n",
       "      <th>gender</th>\n",
       "      <td>[Female, Male, Unknown/Invalid]</td>\n",
       "    </tr>\n",
       "    <tr>\n",
       "      <th>age</th>\n",
       "      <td>[[0-10), [10-20), [20-30), [30-40), [40-50), [...</td>\n",
       "    </tr>\n",
       "    <tr>\n",
       "      <th>weight</th>\n",
       "      <td>[?, [75-100), [50-75), [0-25), [100-125), [25-...</td>\n",
       "    </tr>\n",
       "    <tr>\n",
       "      <th>payer_code</th>\n",
       "      <td>[?, MC, MD, HM, UN, BC, SP, CP, SI, DM, CM, CH...</td>\n",
       "    </tr>\n",
       "    <tr>\n",
       "      <th>medical_specialty</th>\n",
       "      <td>[Pediatrics-Endocrinology, ?, InternalMedicine...</td>\n",
       "    </tr>\n",
       "    <tr>\n",
       "      <th>diag_1</th>\n",
       "      <td>[250.83, 276, 648, 8, 197, 414, 428, 398, 434,...</td>\n",
       "    </tr>\n",
       "    <tr>\n",
       "      <th>diag_2</th>\n",
       "      <td>[?, 250.01, 250, 250.43, 157, 411, 492, 427, 1...</td>\n",
       "    </tr>\n",
       "    <tr>\n",
       "      <th>diag_3</th>\n",
       "      <td>[?, 255, V27, 403, 250, V45, 38, 486, 996, 197...</td>\n",
       "    </tr>\n",
       "    <tr>\n",
       "      <th>max_glu_serum</th>\n",
       "      <td>[None, &gt;300, Norm, &gt;200]</td>\n",
       "    </tr>\n",
       "    <tr>\n",
       "      <th>A1Cresult</th>\n",
       "      <td>[None, &gt;7, &gt;8, Norm]</td>\n",
       "    </tr>\n",
       "    <tr>\n",
       "      <th>metformin</th>\n",
       "      <td>[No, Steady, Up, Down]</td>\n",
       "    </tr>\n",
       "    <tr>\n",
       "      <th>repaglinide</th>\n",
       "      <td>[No, Up, Steady, Down]</td>\n",
       "    </tr>\n",
       "    <tr>\n",
       "      <th>nateglinide</th>\n",
       "      <td>[No, Steady, Down, Up]</td>\n",
       "    </tr>\n",
       "    <tr>\n",
       "      <th>chlorpropamide</th>\n",
       "      <td>[No, Steady, Down, Up]</td>\n",
       "    </tr>\n",
       "    <tr>\n",
       "      <th>glimepiride</th>\n",
       "      <td>[No, Steady, Down, Up]</td>\n",
       "    </tr>\n",
       "    <tr>\n",
       "      <th>acetohexamide</th>\n",
       "      <td>[No, Steady]</td>\n",
       "    </tr>\n",
       "    <tr>\n",
       "      <th>glipizide</th>\n",
       "      <td>[No, Steady, Up, Down]</td>\n",
       "    </tr>\n",
       "    <tr>\n",
       "      <th>glyburide</th>\n",
       "      <td>[No, Steady, Up, Down]</td>\n",
       "    </tr>\n",
       "    <tr>\n",
       "      <th>tolbutamide</th>\n",
       "      <td>[No, Steady]</td>\n",
       "    </tr>\n",
       "    <tr>\n",
       "      <th>pioglitazone</th>\n",
       "      <td>[No, Steady, Up, Down]</td>\n",
       "    </tr>\n",
       "    <tr>\n",
       "      <th>rosiglitazone</th>\n",
       "      <td>[No, Steady, Up, Down]</td>\n",
       "    </tr>\n",
       "    <tr>\n",
       "      <th>acarbose</th>\n",
       "      <td>[No, Steady, Up, Down]</td>\n",
       "    </tr>\n",
       "    <tr>\n",
       "      <th>miglitol</th>\n",
       "      <td>[No, Steady, Down, Up]</td>\n",
       "    </tr>\n",
       "    <tr>\n",
       "      <th>troglitazone</th>\n",
       "      <td>[No, Steady]</td>\n",
       "    </tr>\n",
       "    <tr>\n",
       "      <th>tolazamide</th>\n",
       "      <td>[No, Steady, Up]</td>\n",
       "    </tr>\n",
       "    <tr>\n",
       "      <th>examide</th>\n",
       "      <td>[No]</td>\n",
       "    </tr>\n",
       "    <tr>\n",
       "      <th>citoglipton</th>\n",
       "      <td>[No]</td>\n",
       "    </tr>\n",
       "    <tr>\n",
       "      <th>insulin</th>\n",
       "      <td>[No, Up, Steady, Down]</td>\n",
       "    </tr>\n",
       "    <tr>\n",
       "      <th>glyburide-metformin</th>\n",
       "      <td>[No, Steady, Down, Up]</td>\n",
       "    </tr>\n",
       "    <tr>\n",
       "      <th>glipizide-metformin</th>\n",
       "      <td>[No, Steady]</td>\n",
       "    </tr>\n",
       "    <tr>\n",
       "      <th>glimepiride-pioglitazone</th>\n",
       "      <td>[No, Steady]</td>\n",
       "    </tr>\n",
       "    <tr>\n",
       "      <th>metformin-rosiglitazone</th>\n",
       "      <td>[No, Steady]</td>\n",
       "    </tr>\n",
       "    <tr>\n",
       "      <th>metformin-pioglitazone</th>\n",
       "      <td>[No, Steady]</td>\n",
       "    </tr>\n",
       "    <tr>\n",
       "      <th>change</th>\n",
       "      <td>[No, Ch]</td>\n",
       "    </tr>\n",
       "    <tr>\n",
       "      <th>diabetesMed</th>\n",
       "      <td>[No, Yes]</td>\n",
       "    </tr>\n",
       "    <tr>\n",
       "      <th>readmitted</th>\n",
       "      <td>[NO, &gt;30, &lt;30]</td>\n",
       "    </tr>\n",
       "  </tbody>\n",
       "</table>\n",
       "</div>"
      ],
      "text/plain": [
       "                                                              Unique Values\n",
       "race                      [Caucasian, AfricanAmerican, ?, Other, Asian, ...\n",
       "gender                                      [Female, Male, Unknown/Invalid]\n",
       "age                       [[0-10), [10-20), [20-30), [30-40), [40-50), [...\n",
       "weight                    [?, [75-100), [50-75), [0-25), [100-125), [25-...\n",
       "payer_code                [?, MC, MD, HM, UN, BC, SP, CP, SI, DM, CM, CH...\n",
       "medical_specialty         [Pediatrics-Endocrinology, ?, InternalMedicine...\n",
       "diag_1                    [250.83, 276, 648, 8, 197, 414, 428, 398, 434,...\n",
       "diag_2                    [?, 250.01, 250, 250.43, 157, 411, 492, 427, 1...\n",
       "diag_3                    [?, 255, V27, 403, 250, V45, 38, 486, 996, 197...\n",
       "max_glu_serum                                      [None, >300, Norm, >200]\n",
       "A1Cresult                                              [None, >7, >8, Norm]\n",
       "metformin                                            [No, Steady, Up, Down]\n",
       "repaglinide                                          [No, Up, Steady, Down]\n",
       "nateglinide                                          [No, Steady, Down, Up]\n",
       "chlorpropamide                                       [No, Steady, Down, Up]\n",
       "glimepiride                                          [No, Steady, Down, Up]\n",
       "acetohexamide                                                  [No, Steady]\n",
       "glipizide                                            [No, Steady, Up, Down]\n",
       "glyburide                                            [No, Steady, Up, Down]\n",
       "tolbutamide                                                    [No, Steady]\n",
       "pioglitazone                                         [No, Steady, Up, Down]\n",
       "rosiglitazone                                        [No, Steady, Up, Down]\n",
       "acarbose                                             [No, Steady, Up, Down]\n",
       "miglitol                                             [No, Steady, Down, Up]\n",
       "troglitazone                                                   [No, Steady]\n",
       "tolazamide                                                 [No, Steady, Up]\n",
       "examide                                                                [No]\n",
       "citoglipton                                                            [No]\n",
       "insulin                                              [No, Up, Steady, Down]\n",
       "glyburide-metformin                                  [No, Steady, Down, Up]\n",
       "glipizide-metformin                                            [No, Steady]\n",
       "glimepiride-pioglitazone                                       [No, Steady]\n",
       "metformin-rosiglitazone                                        [No, Steady]\n",
       "metformin-pioglitazone                                         [No, Steady]\n",
       "change                                                             [No, Ch]\n",
       "diabetesMed                                                       [No, Yes]\n",
       "readmitted                                                   [NO, >30, <30]"
      ]
     },
     "execution_count": 8,
     "metadata": {},
     "output_type": "execute_result"
    }
   ],
   "source": [
    "# Assigning categorical features into a variable.\n",
    "categorical_cols = diabetes_df.columns[diabetes_df.dtypes=='object']\n",
    "\n",
    "# Assigning an array of unique values for each categorical features.\n",
    "unique_cat_cols = [diabetes_df[i].unique() for i in categorical_cols]\n",
    "\n",
    "# Creating a dataframe to view results.\n",
    "pd.DataFrame({'Unique Values': unique_cat_cols}, index=categorical_cols)"
   ]
  },
  {
   "cell_type": "markdown",
   "metadata": {},
   "source": [
    "From this table, we can see deduct more information about the dataset, most notably are:\n",
    "* `diabetes_df[['age', 'weight']]` depict age and weight in categorical bins, so we can leave it as an `object`;\n",
    "* There are `?` values, which we'll assume are missing data, thus we can treat it as `np.nan`;\n",
    "* `diabetes_df[['admission_type_id', 'discharge_disposition_id, 'admission_source_id']]` are categorical values that are represented in `IDs_mapping.csv`. We need to take a closer look at `IDs_mapping.csv` to gather more information about these features;\n",
    "* `diabetes_df[['diag_1', 'diag_2', 'diag_3']]` are ICD-9 codes for the patient's primary, secondary, and additional diagnoses. We need to have a meaningful categorization for these codes (i.e., Cardiovascular, Pulmonary, etc.);\n",
    "* `diabetes_df[['payer_code', 'medical_specialty']]` can be omitted for our analysis;\n",
    "* There are 23 features regarding any medication that were prescribed or any changes made to the patient;\n",
    "* `diabetes_df['change']` succinctly represents if there any medication changes;\n",
    "* `diabetes_df['diabetes_Med']` notes if there any diabetic medications prescribed to the patients;\n",
    "\n",
    "Using this information, we can continue with our analysis."
   ]
  },
  {
   "cell_type": "code",
   "execution_count": 9,
   "metadata": {
    "ExecuteTime": {
     "end_time": "2020-10-05T18:56:05.241070Z",
     "start_time": "2020-10-05T18:56:05.164060Z"
    },
    "scrolled": false
   },
   "outputs": [],
   "source": [
    "# Replacing ? values with np.nan.\n",
    "diabetes_df.replace('?', np.nan, inplace=True)"
   ]
  },
  {
   "cell_type": "markdown",
   "metadata": {},
   "source": [
    "#### Admission Type and Source & Discharge"
   ]
  },
  {
   "cell_type": "code",
   "execution_count": 10,
   "metadata": {
    "ExecuteTime": {
     "end_time": "2020-10-05T18:56:05.321080Z",
     "start_time": "2020-10-05T18:56:05.243071Z"
    }
   },
   "outputs": [],
   "source": [
    "# Changing the features into an object data type.\n",
    "diabetes_df[['admission_type_id', 'discharge_disposition_id', 'admission_source_id']] = diabetes_df[[\n",
    "    'admission_type_id', 'discharge_disposition_id', 'admission_source_id']].astype('object')"
   ]
  },
  {
   "cell_type": "markdown",
   "metadata": {
    "ExecuteTime": {
     "end_time": "2020-10-05T17:31:21.162165Z",
     "start_time": "2020-10-05T17:31:21.154152Z"
    }
   },
   "source": [
    "Taking a closer look at `IDs_mapping.csv`, we can see how `diabetes_df[['admission_type_id', 'discharge_disposition_id', 'admission_source_id']]` are mapped.\n",
    "\n",
    "For example, there are values that represent missing data and values that makes the patient ineligible to be readmitted.\n",
    "\n",
    "We'll omit those observations for our analysis."
   ]
  },
  {
   "cell_type": "code",
   "execution_count": 11,
   "metadata": {
    "ExecuteTime": {
     "end_time": "2020-10-05T18:56:05.449092Z",
     "start_time": "2020-10-05T18:56:05.322080Z"
    },
    "scrolled": true
   },
   "outputs": [],
   "source": [
    "# Replacing null values with np.nan.\n",
    "diabetes_df['admission_type_id'] = diabetes_df['admission_type_id'].replace(\n",
    "    [5, 6, 8], np.nan)\n",
    "\n",
    "diabetes_df['discharge_disposition_id'] = diabetes_df['discharge_disposition_id'].replace(\n",
    "    [11, 13, 14, 18, 19, 20, 21, 25, 26], np.nan)\n",
    "\n",
    "diabetes_df['admission_source_id'] = diabetes_df['admission_source_id'].replace(\n",
    "    [9, 15, 17, 20, 21], np.nan)"
   ]
  },
  {
   "cell_type": "markdown",
   "metadata": {},
   "source": [
    "#### ICD-9 Diagnosis"
   ]
  },
  {
   "cell_type": "code",
   "execution_count": 12,
   "metadata": {
    "ExecuteTime": {
     "end_time": "2020-10-05T18:56:05.464091Z",
     "start_time": "2020-10-05T18:56:05.451092Z"
    },
    "run_control": {
     "marked": true
    }
   },
   "outputs": [],
   "source": [
    "icd_9_cols = ['diag_1', 'diag_2', 'diag_3']"
   ]
  },
  {
   "cell_type": "code",
   "execution_count": 13,
   "metadata": {
    "ExecuteTime": {
     "end_time": "2020-10-05T18:56:05.859126Z",
     "start_time": "2020-10-05T18:56:05.481094Z"
    }
   },
   "outputs": [
    {
     "name": "stdout",
     "output_type": "stream",
     "text": [
      "93563    518\n",
      "55839    414\n",
      "44761    414\n",
      "72946    198\n",
      "43600    428\n",
      "17553    998\n",
      "10403    428\n",
      "75080    780\n",
      "94531    427\n",
      "53377    458\n",
      "Name: diag_1, dtype: object\n"
     ]
    },
    {
     "ename": "NameError",
     "evalue": "name 'counter' is not defined",
     "output_type": "error",
     "traceback": [
      "\u001b[1;31m---------------------------------------------------------------------------\u001b[0m",
      "\u001b[1;31mNameError\u001b[0m                                 Traceback (most recent call last)",
      "\u001b[1;32m<ipython-input-13-f6f9a5f40ec8>\u001b[0m in \u001b[0;36m<module>\u001b[1;34m\u001b[0m\n\u001b[0;32m      1\u001b[0m \u001b[1;32mfor\u001b[0m \u001b[0mi\u001b[0m \u001b[1;32min\u001b[0m \u001b[0micd_9_cols\u001b[0m\u001b[1;33m:\u001b[0m\u001b[1;33m\u001b[0m\u001b[1;33m\u001b[0m\u001b[0m\n\u001b[0;32m      2\u001b[0m     \u001b[0mprint\u001b[0m\u001b[1;33m(\u001b[0m\u001b[0mdiabetes_df\u001b[0m\u001b[1;33m[\u001b[0m\u001b[0mi\u001b[0m\u001b[1;33m]\u001b[0m\u001b[1;33m.\u001b[0m\u001b[0msample\u001b[0m\u001b[1;33m(\u001b[0m\u001b[1;36m10\u001b[0m\u001b[1;33m)\u001b[0m\u001b[1;33m)\u001b[0m\u001b[1;33m\u001b[0m\u001b[1;33m\u001b[0m\u001b[0m\n\u001b[1;32m----> 3\u001b[1;33m     \u001b[0mcounter\u001b[0m \u001b[1;33m+=\u001b[0m \u001b[1;36m1\u001b[0m\u001b[1;33m\u001b[0m\u001b[1;33m\u001b[0m\u001b[0m\n\u001b[0m\u001b[0;32m      4\u001b[0m     \u001b[0mprint\u001b[0m\u001b[1;33m(\u001b[0m\u001b[1;34m'---'\u001b[0m\u001b[1;33m*\u001b[0m\u001b[1;36m10\u001b[0m\u001b[1;33m)\u001b[0m\u001b[1;33m\u001b[0m\u001b[1;33m\u001b[0m\u001b[0m\n",
      "\u001b[1;31mNameError\u001b[0m: name 'counter' is not defined"
     ]
    }
   ],
   "source": [
    "for i in icd_9_cols:\n",
    "    print(diabetes_df[i].sample(10))\n",
    "    print('---'*10)"
   ]
  },
  {
   "cell_type": "markdown",
   "metadata": {
    "ExecuteTime": {
     "end_time": "2020-10-05T17:57:35.552250Z",
     "start_time": "2020-10-05T17:57:35.534251Z"
    }
   },
   "source": [
    "In our dataset, `diabetes_df[['diag_1', 'diag_2', 'diag_3']]` are ICD-9 values which has a combination of `int64`, `float64` and `object` values. Typically, it's in three character notation (i.e., `250` for diabetes mellitus). There are other instances where it could be a `float64` where it can specify additional complication of the disease (i.e., diabetes with ketoacidoses are coded from `250.10` to `250.13`). Lastly, there are codes where it's an `object` value (i.e., `V77.0` for screening for thyroid disorders).\n",
    "\n",
    "To be useful in our analysis, we have to categorize the ICD-9 codes into meaningful classes. The CDC has provided meaning categories for analysis found [here](https://www.cdc.gov/nchs/icd/icd9cm.htm).\n",
    "\n",
    "We will use these categories as a placeholder for our diagnoses columns."
   ]
  },
  {
   "cell_type": "code",
   "execution_count": null,
   "metadata": {
    "ExecuteTime": {
     "end_time": "2020-10-05T18:56:05.878127Z",
     "start_time": "2020-10-05T18:56:03.181Z"
    },
    "run_control": {
     "marked": false
    }
   },
   "outputs": [],
   "source": [
    "diabetes_df['diag_1'].loc[diabetes_df['diag_1'].str.contains(\n",
    "    'V') | diabetes_df['diag_1'].str.contains('E')].sample(10)"
   ]
  },
  {
   "cell_type": "code",
   "execution_count": null,
   "metadata": {
    "ExecuteTime": {
     "end_time": "2020-10-05T18:56:05.880127Z",
     "start_time": "2020-10-05T18:56:03.183Z"
    },
    "run_control": {
     "marked": false
    }
   },
   "outputs": [],
   "source": [
    "# def supplementaryICD(df, cols):\n",
    "#     \"\"\"\n",
    "#     Sets supplementary ICD-9 codes (i.e., V01-V86 and E000-E899) into numeric values.\n",
    "#     \"\"\"\n",
    "#     for i in cols:\n",
    "#         df[i].loc[df[i].str.contains('V') | df[i.str.contains('E')]] == 1000"
   ]
  }
 ],
 "metadata": {
  "celltoolbar": "Initialization Cell",
  "kernelspec": {
   "display_name": "Python [conda env:root] *",
   "language": "python",
   "name": "conda-root-py"
  },
  "language_info": {
   "codemirror_mode": {
    "name": "ipython",
    "version": 3
   },
   "file_extension": ".py",
   "mimetype": "text/x-python",
   "name": "python",
   "nbconvert_exporter": "python",
   "pygments_lexer": "ipython3",
   "version": "3.8.5"
  },
  "toc": {
   "base_numbering": 1,
   "nav_menu": {},
   "number_sections": true,
   "sideBar": true,
   "skip_h1_title": false,
   "title_cell": "Table of Contents",
   "title_sidebar": "Contents",
   "toc_cell": false,
   "toc_position": {
    "height": "calc(100% - 180px)",
    "left": "10px",
    "top": "150px",
    "width": "223px"
   },
   "toc_section_display": true,
   "toc_window_display": true
  },
  "varInspector": {
   "cols": {
    "lenName": 16,
    "lenType": 16,
    "lenVar": 40
   },
   "kernels_config": {
    "python": {
     "delete_cmd_postfix": "",
     "delete_cmd_prefix": "del ",
     "library": "var_list.py",
     "varRefreshCmd": "print(var_dic_list())"
    },
    "r": {
     "delete_cmd_postfix": ") ",
     "delete_cmd_prefix": "rm(",
     "library": "var_list.r",
     "varRefreshCmd": "cat(var_dic_list()) "
    }
   },
   "types_to_exclude": [
    "module",
    "function",
    "builtin_function_or_method",
    "instance",
    "_Feature"
   ],
   "window_display": false
  }
 },
 "nbformat": 4,
 "nbformat_minor": 4
}
